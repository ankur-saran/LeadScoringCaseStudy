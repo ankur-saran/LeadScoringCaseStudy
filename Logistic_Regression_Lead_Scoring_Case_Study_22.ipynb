{
 "cells": [
  {
   "cell_type": "markdown",
   "id": "29386163",
   "metadata": {},
   "source": [
    "# Load the dataset and necessary libraries.\n",
    "\n",
    "Explore the dataset and handle missing values.\n",
    "\n",
    "Preprocess the data: encode categorical variables, handle 'Select' values, normalize/standardize if necessary.\n",
    "\n",
    "Split the data into training and test sets.\n",
    "\n",
    "Build and train the logistic regression model.\n",
    "\n",
    "Evaluate the model using various metrics.\n",
    "\n",
    "Optimize the model for better performance."
   ]
  },
  {
   "cell_type": "code",
   "execution_count": 1,
   "id": "ec98f90e",
   "metadata": {},
   "outputs": [],
   "source": [
    "#for analysis\n",
    "import numpy as np\n",
    "import pandas as pd\n",
    "\n",
    "#for visualization\n",
    "import matplotlib.pyplot as plt\n",
    "import seaborn as sns\n",
    "\n",
    "from sklearn.model_selection import train_test_split\n",
    "from sklearn.preprocessing import StandardScaler\n",
    "from sklearn.preprocessing import MinMaxScaler\n",
    "\n",
    "import statsmodels.api as sm\n",
    "\n",
    "from sklearn.feature_selection import RFE\n",
    "from sklearn.linear_model import LogisticRegression\n",
    "\n",
    "from sklearn.metrics import accuracy_score, confusion_matrix, classification_report\n",
    "\n",
    "# Use cross-validation and grid search to optimize hyperparameters\n",
    "from sklearn.model_selection import GridSearchCV\n",
    "\n",
    "#extra\n",
    "import warnings\n",
    "warnings.filterwarnings('ignore')"
   ]
  },
  {
   "cell_type": "code",
   "execution_count": 2,
   "id": "fe6d61f4",
   "metadata": {},
   "outputs": [],
   "source": [
    "df = pd.read_csv(\"data/Leads.csv\")"
   ]
  },
  {
   "cell_type": "code",
   "execution_count": 3,
   "id": "c2e03146",
   "metadata": {},
   "outputs": [
    {
     "data": {
      "text/html": [
       "<div>\n",
       "<style scoped>\n",
       "    .dataframe tbody tr th:only-of-type {\n",
       "        vertical-align: middle;\n",
       "    }\n",
       "\n",
       "    .dataframe tbody tr th {\n",
       "        vertical-align: top;\n",
       "    }\n",
       "\n",
       "    .dataframe thead th {\n",
       "        text-align: right;\n",
       "    }\n",
       "</style>\n",
       "<table border=\"1\" class=\"dataframe\">\n",
       "  <thead>\n",
       "    <tr style=\"text-align: right;\">\n",
       "      <th></th>\n",
       "      <th>Prospect ID</th>\n",
       "      <th>Lead Number</th>\n",
       "      <th>Lead Origin</th>\n",
       "      <th>Lead Source</th>\n",
       "      <th>Do Not Email</th>\n",
       "      <th>Do Not Call</th>\n",
       "      <th>Converted</th>\n",
       "      <th>TotalVisits</th>\n",
       "      <th>Total Time Spent on Website</th>\n",
       "      <th>Page Views Per Visit</th>\n",
       "      <th>...</th>\n",
       "      <th>Get updates on DM Content</th>\n",
       "      <th>Lead Profile</th>\n",
       "      <th>City</th>\n",
       "      <th>Asymmetrique Activity Index</th>\n",
       "      <th>Asymmetrique Profile Index</th>\n",
       "      <th>Asymmetrique Activity Score</th>\n",
       "      <th>Asymmetrique Profile Score</th>\n",
       "      <th>I agree to pay the amount through cheque</th>\n",
       "      <th>A free copy of Mastering The Interview</th>\n",
       "      <th>Last Notable Activity</th>\n",
       "    </tr>\n",
       "  </thead>\n",
       "  <tbody>\n",
       "    <tr>\n",
       "      <th>0</th>\n",
       "      <td>7927b2df-8bba-4d29-b9a2-b6e0beafe620</td>\n",
       "      <td>660737</td>\n",
       "      <td>API</td>\n",
       "      <td>Olark Chat</td>\n",
       "      <td>No</td>\n",
       "      <td>No</td>\n",
       "      <td>0</td>\n",
       "      <td>0.0</td>\n",
       "      <td>0</td>\n",
       "      <td>0.0</td>\n",
       "      <td>...</td>\n",
       "      <td>No</td>\n",
       "      <td>Select</td>\n",
       "      <td>Select</td>\n",
       "      <td>02.Medium</td>\n",
       "      <td>02.Medium</td>\n",
       "      <td>15.0</td>\n",
       "      <td>15.0</td>\n",
       "      <td>No</td>\n",
       "      <td>No</td>\n",
       "      <td>Modified</td>\n",
       "    </tr>\n",
       "    <tr>\n",
       "      <th>1</th>\n",
       "      <td>2a272436-5132-4136-86fa-dcc88c88f482</td>\n",
       "      <td>660728</td>\n",
       "      <td>API</td>\n",
       "      <td>Organic Search</td>\n",
       "      <td>No</td>\n",
       "      <td>No</td>\n",
       "      <td>0</td>\n",
       "      <td>5.0</td>\n",
       "      <td>674</td>\n",
       "      <td>2.5</td>\n",
       "      <td>...</td>\n",
       "      <td>No</td>\n",
       "      <td>Select</td>\n",
       "      <td>Select</td>\n",
       "      <td>02.Medium</td>\n",
       "      <td>02.Medium</td>\n",
       "      <td>15.0</td>\n",
       "      <td>15.0</td>\n",
       "      <td>No</td>\n",
       "      <td>No</td>\n",
       "      <td>Email Opened</td>\n",
       "    </tr>\n",
       "    <tr>\n",
       "      <th>2</th>\n",
       "      <td>8cc8c611-a219-4f35-ad23-fdfd2656bd8a</td>\n",
       "      <td>660727</td>\n",
       "      <td>Landing Page Submission</td>\n",
       "      <td>Direct Traffic</td>\n",
       "      <td>No</td>\n",
       "      <td>No</td>\n",
       "      <td>1</td>\n",
       "      <td>2.0</td>\n",
       "      <td>1532</td>\n",
       "      <td>2.0</td>\n",
       "      <td>...</td>\n",
       "      <td>No</td>\n",
       "      <td>Potential Lead</td>\n",
       "      <td>Mumbai</td>\n",
       "      <td>02.Medium</td>\n",
       "      <td>01.High</td>\n",
       "      <td>14.0</td>\n",
       "      <td>20.0</td>\n",
       "      <td>No</td>\n",
       "      <td>Yes</td>\n",
       "      <td>Email Opened</td>\n",
       "    </tr>\n",
       "    <tr>\n",
       "      <th>3</th>\n",
       "      <td>0cc2df48-7cf4-4e39-9de9-19797f9b38cc</td>\n",
       "      <td>660719</td>\n",
       "      <td>Landing Page Submission</td>\n",
       "      <td>Direct Traffic</td>\n",
       "      <td>No</td>\n",
       "      <td>No</td>\n",
       "      <td>0</td>\n",
       "      <td>1.0</td>\n",
       "      <td>305</td>\n",
       "      <td>1.0</td>\n",
       "      <td>...</td>\n",
       "      <td>No</td>\n",
       "      <td>Select</td>\n",
       "      <td>Mumbai</td>\n",
       "      <td>02.Medium</td>\n",
       "      <td>01.High</td>\n",
       "      <td>13.0</td>\n",
       "      <td>17.0</td>\n",
       "      <td>No</td>\n",
       "      <td>No</td>\n",
       "      <td>Modified</td>\n",
       "    </tr>\n",
       "    <tr>\n",
       "      <th>4</th>\n",
       "      <td>3256f628-e534-4826-9d63-4a8b88782852</td>\n",
       "      <td>660681</td>\n",
       "      <td>Landing Page Submission</td>\n",
       "      <td>Google</td>\n",
       "      <td>No</td>\n",
       "      <td>No</td>\n",
       "      <td>1</td>\n",
       "      <td>2.0</td>\n",
       "      <td>1428</td>\n",
       "      <td>1.0</td>\n",
       "      <td>...</td>\n",
       "      <td>No</td>\n",
       "      <td>Select</td>\n",
       "      <td>Mumbai</td>\n",
       "      <td>02.Medium</td>\n",
       "      <td>01.High</td>\n",
       "      <td>15.0</td>\n",
       "      <td>18.0</td>\n",
       "      <td>No</td>\n",
       "      <td>No</td>\n",
       "      <td>Modified</td>\n",
       "    </tr>\n",
       "  </tbody>\n",
       "</table>\n",
       "<p>5 rows × 37 columns</p>\n",
       "</div>"
      ],
      "text/plain": [
       "                            Prospect ID  Lead Number              Lead Origin  \\\n",
       "0  7927b2df-8bba-4d29-b9a2-b6e0beafe620       660737                      API   \n",
       "1  2a272436-5132-4136-86fa-dcc88c88f482       660728                      API   \n",
       "2  8cc8c611-a219-4f35-ad23-fdfd2656bd8a       660727  Landing Page Submission   \n",
       "3  0cc2df48-7cf4-4e39-9de9-19797f9b38cc       660719  Landing Page Submission   \n",
       "4  3256f628-e534-4826-9d63-4a8b88782852       660681  Landing Page Submission   \n",
       "\n",
       "      Lead Source Do Not Email Do Not Call  Converted  TotalVisits  \\\n",
       "0      Olark Chat           No          No          0          0.0   \n",
       "1  Organic Search           No          No          0          5.0   \n",
       "2  Direct Traffic           No          No          1          2.0   \n",
       "3  Direct Traffic           No          No          0          1.0   \n",
       "4          Google           No          No          1          2.0   \n",
       "\n",
       "   Total Time Spent on Website  Page Views Per Visit  ...  \\\n",
       "0                            0                   0.0  ...   \n",
       "1                          674                   2.5  ...   \n",
       "2                         1532                   2.0  ...   \n",
       "3                          305                   1.0  ...   \n",
       "4                         1428                   1.0  ...   \n",
       "\n",
       "  Get updates on DM Content    Lead Profile    City  \\\n",
       "0                        No          Select  Select   \n",
       "1                        No          Select  Select   \n",
       "2                        No  Potential Lead  Mumbai   \n",
       "3                        No          Select  Mumbai   \n",
       "4                        No          Select  Mumbai   \n",
       "\n",
       "  Asymmetrique Activity Index Asymmetrique Profile Index  \\\n",
       "0                   02.Medium                  02.Medium   \n",
       "1                   02.Medium                  02.Medium   \n",
       "2                   02.Medium                    01.High   \n",
       "3                   02.Medium                    01.High   \n",
       "4                   02.Medium                    01.High   \n",
       "\n",
       "  Asymmetrique Activity Score Asymmetrique Profile Score  \\\n",
       "0                        15.0                       15.0   \n",
       "1                        15.0                       15.0   \n",
       "2                        14.0                       20.0   \n",
       "3                        13.0                       17.0   \n",
       "4                        15.0                       18.0   \n",
       "\n",
       "  I agree to pay the amount through cheque  \\\n",
       "0                                       No   \n",
       "1                                       No   \n",
       "2                                       No   \n",
       "3                                       No   \n",
       "4                                       No   \n",
       "\n",
       "  A free copy of Mastering The Interview Last Notable Activity  \n",
       "0                                     No              Modified  \n",
       "1                                     No          Email Opened  \n",
       "2                                    Yes          Email Opened  \n",
       "3                                     No              Modified  \n",
       "4                                     No              Modified  \n",
       "\n",
       "[5 rows x 37 columns]"
      ]
     },
     "execution_count": 3,
     "metadata": {},
     "output_type": "execute_result"
    }
   ],
   "source": [
    "df.head()"
   ]
  },
  {
   "cell_type": "code",
   "execution_count": 4,
   "id": "3031cb99",
   "metadata": {},
   "outputs": [
    {
     "name": "stdout",
     "output_type": "stream",
     "text": [
      "<class 'pandas.core.frame.DataFrame'>\n",
      "RangeIndex: 9240 entries, 0 to 9239\n",
      "Data columns (total 37 columns):\n",
      " #   Column                                         Non-Null Count  Dtype  \n",
      "---  ------                                         --------------  -----  \n",
      " 0   Prospect ID                                    9240 non-null   object \n",
      " 1   Lead Number                                    9240 non-null   int64  \n",
      " 2   Lead Origin                                    9240 non-null   object \n",
      " 3   Lead Source                                    9204 non-null   object \n",
      " 4   Do Not Email                                   9240 non-null   object \n",
      " 5   Do Not Call                                    9240 non-null   object \n",
      " 6   Converted                                      9240 non-null   int64  \n",
      " 7   TotalVisits                                    9103 non-null   float64\n",
      " 8   Total Time Spent on Website                    9240 non-null   int64  \n",
      " 9   Page Views Per Visit                           9103 non-null   float64\n",
      " 10  Last Activity                                  9137 non-null   object \n",
      " 11  Country                                        6779 non-null   object \n",
      " 12  Specialization                                 7802 non-null   object \n",
      " 13  How did you hear about X Education             7033 non-null   object \n",
      " 14  What is your current occupation                6550 non-null   object \n",
      " 15  What matters most to you in choosing a course  6531 non-null   object \n",
      " 16  Search                                         9240 non-null   object \n",
      " 17  Magazine                                       9240 non-null   object \n",
      " 18  Newspaper Article                              9240 non-null   object \n",
      " 19  X Education Forums                             9240 non-null   object \n",
      " 20  Newspaper                                      9240 non-null   object \n",
      " 21  Digital Advertisement                          9240 non-null   object \n",
      " 22  Through Recommendations                        9240 non-null   object \n",
      " 23  Receive More Updates About Our Courses         9240 non-null   object \n",
      " 24  Tags                                           5887 non-null   object \n",
      " 25  Lead Quality                                   4473 non-null   object \n",
      " 26  Update me on Supply Chain Content              9240 non-null   object \n",
      " 27  Get updates on DM Content                      9240 non-null   object \n",
      " 28  Lead Profile                                   6531 non-null   object \n",
      " 29  City                                           7820 non-null   object \n",
      " 30  Asymmetrique Activity Index                    5022 non-null   object \n",
      " 31  Asymmetrique Profile Index                     5022 non-null   object \n",
      " 32  Asymmetrique Activity Score                    5022 non-null   float64\n",
      " 33  Asymmetrique Profile Score                     5022 non-null   float64\n",
      " 34  I agree to pay the amount through cheque       9240 non-null   object \n",
      " 35  A free copy of Mastering The Interview         9240 non-null   object \n",
      " 36  Last Notable Activity                          9240 non-null   object \n",
      "dtypes: float64(4), int64(3), object(30)\n",
      "memory usage: 2.6+ MB\n"
     ]
    }
   ],
   "source": [
    "df.info()"
   ]
  },
  {
   "cell_type": "code",
   "execution_count": 5,
   "id": "a0d4b83a",
   "metadata": {},
   "outputs": [
    {
     "data": {
      "text/plain": [
       "0    5679\n",
       "1    3561\n",
       "Name: Converted, dtype: int64"
      ]
     },
     "execution_count": 5,
     "metadata": {},
     "output_type": "execute_result"
    }
   ],
   "source": [
    "df[\"Converted\"].value_counts()"
   ]
  },
  {
   "cell_type": "markdown",
   "id": "864b881b",
   "metadata": {},
   "source": [
    "Build a logistic regression model to assign a lead score between 0 and 100 to each of the leads which can be used by the company to target potential leads. A higher score would mean that the lead is hot, i.e. is most likely to convert whereas a lower score would mean that the lead is cold and will mostly not get converted."
   ]
  },
  {
   "cell_type": "code",
   "execution_count": 6,
   "id": "e1e0b5da",
   "metadata": {},
   "outputs": [
    {
     "data": {
      "text/plain": [
       "Prospect ID                                       0.000000\n",
       "Lead Number                                       0.000000\n",
       "Lead Origin                                       0.000000\n",
       "Lead Source                                       0.389610\n",
       "Do Not Email                                      0.000000\n",
       "Do Not Call                                       0.000000\n",
       "Converted                                         0.000000\n",
       "TotalVisits                                       1.482684\n",
       "Total Time Spent on Website                       0.000000\n",
       "Page Views Per Visit                              1.482684\n",
       "Last Activity                                     1.114719\n",
       "Country                                          26.634199\n",
       "Specialization                                   15.562771\n",
       "How did you hear about X Education               23.885281\n",
       "What is your current occupation                  29.112554\n",
       "What matters most to you in choosing a course    29.318182\n",
       "Search                                            0.000000\n",
       "Magazine                                          0.000000\n",
       "Newspaper Article                                 0.000000\n",
       "X Education Forums                                0.000000\n",
       "Newspaper                                         0.000000\n",
       "Digital Advertisement                             0.000000\n",
       "Through Recommendations                           0.000000\n",
       "Receive More Updates About Our Courses            0.000000\n",
       "Tags                                             36.287879\n",
       "Lead Quality                                     51.590909\n",
       "Update me on Supply Chain Content                 0.000000\n",
       "Get updates on DM Content                         0.000000\n",
       "Lead Profile                                     29.318182\n",
       "City                                             15.367965\n",
       "Asymmetrique Activity Index                      45.649351\n",
       "Asymmetrique Profile Index                       45.649351\n",
       "Asymmetrique Activity Score                      45.649351\n",
       "Asymmetrique Profile Score                       45.649351\n",
       "I agree to pay the amount through cheque          0.000000\n",
       "A free copy of Mastering The Interview            0.000000\n",
       "Last Notable Activity                             0.000000\n",
       "dtype: float64"
      ]
     },
     "execution_count": 6,
     "metadata": {},
     "output_type": "execute_result"
    }
   ],
   "source": [
    "df.isnull().mean()*100"
   ]
  },
  {
   "cell_type": "markdown",
   "id": "a8f5fb47",
   "metadata": {},
   "source": [
    "#### Explore the dataset and handle missing values"
   ]
  },
  {
   "cell_type": "code",
   "execution_count": 7,
   "id": "1cf5537f",
   "metadata": {},
   "outputs": [
    {
     "name": "stdout",
     "output_type": "stream",
     "text": [
      "Prospect ID                                         0\n",
      "Lead Number                                         0\n",
      "Lead Origin                                         0\n",
      "Lead Source                                        36\n",
      "Do Not Email                                        0\n",
      "Do Not Call                                         0\n",
      "Converted                                           0\n",
      "TotalVisits                                       137\n",
      "Total Time Spent on Website                         0\n",
      "Page Views Per Visit                              137\n",
      "Last Activity                                     103\n",
      "Country                                          2461\n",
      "Specialization                                   1438\n",
      "How did you hear about X Education               2207\n",
      "What is your current occupation                  2690\n",
      "What matters most to you in choosing a course    2709\n",
      "Search                                              0\n",
      "Magazine                                            0\n",
      "Newspaper Article                                   0\n",
      "X Education Forums                                  0\n",
      "Newspaper                                           0\n",
      "Digital Advertisement                               0\n",
      "Through Recommendations                             0\n",
      "Receive More Updates About Our Courses              0\n",
      "Tags                                             3353\n",
      "Lead Quality                                     4767\n",
      "Update me on Supply Chain Content                   0\n",
      "Get updates on DM Content                           0\n",
      "Lead Profile                                     2709\n",
      "City                                             1420\n",
      "Asymmetrique Activity Index                      4218\n",
      "Asymmetrique Profile Index                       4218\n",
      "Asymmetrique Activity Score                      4218\n",
      "Asymmetrique Profile Score                       4218\n",
      "I agree to pay the amount through cheque            0\n",
      "A free copy of Mastering The Interview              0\n",
      "Last Notable Activity                               0\n",
      "dtype: int64\n"
     ]
    }
   ],
   "source": [
    "# Check for missing values\n",
    "print(df.isnull().sum())\n",
    "\n",
    "# Handle 'Select' values in categorical columns\n",
    "categorical_cols = df.select_dtypes(include=['object']).columns\n",
    "for col in categorical_cols:\n",
    "    df[col] = df[col].replace('Select', np.nan)"
   ]
  },
  {
   "cell_type": "code",
   "execution_count": 8,
   "id": "cc630c00",
   "metadata": {},
   "outputs": [
    {
     "data": {
      "text/plain": [
       "Prospect ID                                       0.000000\n",
       "Lead Number                                       0.000000\n",
       "Lead Origin                                       0.000000\n",
       "Lead Source                                       0.389610\n",
       "Do Not Email                                      0.000000\n",
       "Do Not Call                                       0.000000\n",
       "Converted                                         0.000000\n",
       "TotalVisits                                       1.482684\n",
       "Total Time Spent on Website                       0.000000\n",
       "Page Views Per Visit                              1.482684\n",
       "Last Activity                                     1.114719\n",
       "Country                                          26.634199\n",
       "Specialization                                   36.580087\n",
       "How did you hear about X Education               78.463203\n",
       "What is your current occupation                  29.112554\n",
       "What matters most to you in choosing a course    29.318182\n",
       "Search                                            0.000000\n",
       "Magazine                                          0.000000\n",
       "Newspaper Article                                 0.000000\n",
       "X Education Forums                                0.000000\n",
       "Newspaper                                         0.000000\n",
       "Digital Advertisement                             0.000000\n",
       "Through Recommendations                           0.000000\n",
       "Receive More Updates About Our Courses            0.000000\n",
       "Tags                                             36.287879\n",
       "Lead Quality                                     51.590909\n",
       "Update me on Supply Chain Content                 0.000000\n",
       "Get updates on DM Content                         0.000000\n",
       "Lead Profile                                     74.188312\n",
       "City                                             39.707792\n",
       "Asymmetrique Activity Index                      45.649351\n",
       "Asymmetrique Profile Index                       45.649351\n",
       "Asymmetrique Activity Score                      45.649351\n",
       "Asymmetrique Profile Score                       45.649351\n",
       "I agree to pay the amount through cheque          0.000000\n",
       "A free copy of Mastering The Interview            0.000000\n",
       "Last Notable Activity                             0.000000\n",
       "dtype: float64"
      ]
     },
     "execution_count": 8,
     "metadata": {},
     "output_type": "execute_result"
    }
   ],
   "source": [
    "df.isnull().mean()*100"
   ]
  },
  {
   "cell_type": "code",
   "execution_count": 9,
   "id": "54b24503",
   "metadata": {},
   "outputs": [
    {
     "data": {
      "text/plain": [
       "Prospect ID                                       0.000000\n",
       "Lead Number                                       0.000000\n",
       "Lead Origin                                       0.000000\n",
       "Lead Source                                       0.389610\n",
       "Do Not Email                                      0.000000\n",
       "Do Not Call                                       0.000000\n",
       "Converted                                         0.000000\n",
       "TotalVisits                                       1.482684\n",
       "Total Time Spent on Website                       0.000000\n",
       "Page Views Per Visit                              1.482684\n",
       "Last Activity                                     1.114719\n",
       "Country                                          26.634199\n",
       "Specialization                                   36.580087\n",
       "What is your current occupation                  29.112554\n",
       "What matters most to you in choosing a course    29.318182\n",
       "Search                                            0.000000\n",
       "Magazine                                          0.000000\n",
       "Newspaper Article                                 0.000000\n",
       "X Education Forums                                0.000000\n",
       "Newspaper                                         0.000000\n",
       "Digital Advertisement                             0.000000\n",
       "Through Recommendations                           0.000000\n",
       "Receive More Updates About Our Courses            0.000000\n",
       "Tags                                             36.287879\n",
       "Lead Quality                                     51.590909\n",
       "Update me on Supply Chain Content                 0.000000\n",
       "Get updates on DM Content                         0.000000\n",
       "Lead Profile                                     74.188312\n",
       "City                                             39.707792\n",
       "Asymmetrique Activity Index                      45.649351\n",
       "Asymmetrique Profile Index                       45.649351\n",
       "Asymmetrique Activity Score                      45.649351\n",
       "Asymmetrique Profile Score                       45.649351\n",
       "I agree to pay the amount through cheque          0.000000\n",
       "A free copy of Mastering The Interview            0.000000\n",
       "Last Notable Activity                             0.000000\n",
       "dtype: float64"
      ]
     },
     "execution_count": 9,
     "metadata": {},
     "output_type": "execute_result"
    }
   ],
   "source": [
    "df_clean=df.drop([\"How did you hear about X Education\"],axis=1)\n",
    "df_clean.isnull().mean()*100"
   ]
  },
  {
   "cell_type": "code",
   "execution_count": 10,
   "id": "8a3085f5",
   "metadata": {},
   "outputs": [
    {
     "data": {
      "text/plain": [
       "Prospect ID                                       0.000000\n",
       "Lead Number                                       0.000000\n",
       "Lead Origin                                       0.000000\n",
       "Lead Source                                       0.389610\n",
       "Do Not Email                                      0.000000\n",
       "Do Not Call                                       0.000000\n",
       "Converted                                         0.000000\n",
       "TotalVisits                                       1.482684\n",
       "Total Time Spent on Website                       0.000000\n",
       "Page Views Per Visit                              1.482684\n",
       "Last Activity                                     1.114719\n",
       "Country                                          26.634199\n",
       "Specialization                                   36.580087\n",
       "What is your current occupation                  29.112554\n",
       "What matters most to you in choosing a course    29.318182\n",
       "Search                                            0.000000\n",
       "Magazine                                          0.000000\n",
       "Newspaper Article                                 0.000000\n",
       "X Education Forums                                0.000000\n",
       "Newspaper                                         0.000000\n",
       "Digital Advertisement                             0.000000\n",
       "Through Recommendations                           0.000000\n",
       "Receive More Updates About Our Courses            0.000000\n",
       "Tags                                             36.287879\n",
       "Lead Quality                                     51.590909\n",
       "Update me on Supply Chain Content                 0.000000\n",
       "Get updates on DM Content                         0.000000\n",
       "City                                             39.707792\n",
       "Asymmetrique Activity Index                      45.649351\n",
       "Asymmetrique Profile Index                       45.649351\n",
       "Asymmetrique Activity Score                      45.649351\n",
       "Asymmetrique Profile Score                       45.649351\n",
       "I agree to pay the amount through cheque          0.000000\n",
       "A free copy of Mastering The Interview            0.000000\n",
       "Last Notable Activity                             0.000000\n",
       "dtype: float64"
      ]
     },
     "execution_count": 10,
     "metadata": {},
     "output_type": "execute_result"
    }
   ],
   "source": [
    "df_clean=df_clean.drop([\"Lead Profile\"],axis=1)\n",
    "df_clean.isnull().mean()*100"
   ]
  },
  {
   "cell_type": "code",
   "execution_count": 11,
   "id": "3f24627f",
   "metadata": {},
   "outputs": [],
   "source": [
    "def replace_nan_with_mode(df, column_list):\n",
    "    \"\"\"\n",
    "    Replaces NaN values with the mode in the specified categorical columns.\n",
    "    \n",
    "    Parameters:\n",
    "    df (pd.DataFrame): The input DataFrame.\n",
    "    column_list (list): List of column names to replace NaN values with mode.\n",
    "    \n",
    "    Returns:\n",
    "    pd.DataFrame: The DataFrame with NaN values replaced by mode.\n",
    "    \"\"\"\n",
    "    for col in column_list:\n",
    "        mode_value = df[col].mode()[0]\n",
    "        df[col] = df[col].fillna(mode_value)\n",
    "    return df"
   ]
  },
  {
   "cell_type": "code",
   "execution_count": 12,
   "id": "899943dd",
   "metadata": {},
   "outputs": [],
   "source": [
    "cat_cols = ['Lead Quality', 'Lead Source', 'Last Activity', 'Country', 'Specialization', 'What is your current occupation', 'What matters most to you in choosing a course', 'Tags', 'City' ]"
   ]
  },
  {
   "cell_type": "code",
   "execution_count": 13,
   "id": "13d50294",
   "metadata": {},
   "outputs": [
    {
     "data": {
      "text/html": [
       "<div>\n",
       "<style scoped>\n",
       "    .dataframe tbody tr th:only-of-type {\n",
       "        vertical-align: middle;\n",
       "    }\n",
       "\n",
       "    .dataframe tbody tr th {\n",
       "        vertical-align: top;\n",
       "    }\n",
       "\n",
       "    .dataframe thead th {\n",
       "        text-align: right;\n",
       "    }\n",
       "</style>\n",
       "<table border=\"1\" class=\"dataframe\">\n",
       "  <thead>\n",
       "    <tr style=\"text-align: right;\">\n",
       "      <th></th>\n",
       "      <th>Prospect ID</th>\n",
       "      <th>Lead Number</th>\n",
       "      <th>Lead Origin</th>\n",
       "      <th>Lead Source</th>\n",
       "      <th>Do Not Email</th>\n",
       "      <th>Do Not Call</th>\n",
       "      <th>Converted</th>\n",
       "      <th>TotalVisits</th>\n",
       "      <th>Total Time Spent on Website</th>\n",
       "      <th>Page Views Per Visit</th>\n",
       "      <th>...</th>\n",
       "      <th>Update me on Supply Chain Content</th>\n",
       "      <th>Get updates on DM Content</th>\n",
       "      <th>City</th>\n",
       "      <th>Asymmetrique Activity Index</th>\n",
       "      <th>Asymmetrique Profile Index</th>\n",
       "      <th>Asymmetrique Activity Score</th>\n",
       "      <th>Asymmetrique Profile Score</th>\n",
       "      <th>I agree to pay the amount through cheque</th>\n",
       "      <th>A free copy of Mastering The Interview</th>\n",
       "      <th>Last Notable Activity</th>\n",
       "    </tr>\n",
       "  </thead>\n",
       "  <tbody>\n",
       "    <tr>\n",
       "      <th>0</th>\n",
       "      <td>7927b2df-8bba-4d29-b9a2-b6e0beafe620</td>\n",
       "      <td>660737</td>\n",
       "      <td>API</td>\n",
       "      <td>Olark Chat</td>\n",
       "      <td>No</td>\n",
       "      <td>No</td>\n",
       "      <td>0</td>\n",
       "      <td>0.0</td>\n",
       "      <td>0</td>\n",
       "      <td>0.00</td>\n",
       "      <td>...</td>\n",
       "      <td>No</td>\n",
       "      <td>No</td>\n",
       "      <td>Mumbai</td>\n",
       "      <td>02.Medium</td>\n",
       "      <td>02.Medium</td>\n",
       "      <td>15.0</td>\n",
       "      <td>15.0</td>\n",
       "      <td>No</td>\n",
       "      <td>No</td>\n",
       "      <td>Modified</td>\n",
       "    </tr>\n",
       "    <tr>\n",
       "      <th>1</th>\n",
       "      <td>2a272436-5132-4136-86fa-dcc88c88f482</td>\n",
       "      <td>660728</td>\n",
       "      <td>API</td>\n",
       "      <td>Organic Search</td>\n",
       "      <td>No</td>\n",
       "      <td>No</td>\n",
       "      <td>0</td>\n",
       "      <td>5.0</td>\n",
       "      <td>674</td>\n",
       "      <td>2.50</td>\n",
       "      <td>...</td>\n",
       "      <td>No</td>\n",
       "      <td>No</td>\n",
       "      <td>Mumbai</td>\n",
       "      <td>02.Medium</td>\n",
       "      <td>02.Medium</td>\n",
       "      <td>15.0</td>\n",
       "      <td>15.0</td>\n",
       "      <td>No</td>\n",
       "      <td>No</td>\n",
       "      <td>Email Opened</td>\n",
       "    </tr>\n",
       "    <tr>\n",
       "      <th>2</th>\n",
       "      <td>8cc8c611-a219-4f35-ad23-fdfd2656bd8a</td>\n",
       "      <td>660727</td>\n",
       "      <td>Landing Page Submission</td>\n",
       "      <td>Direct Traffic</td>\n",
       "      <td>No</td>\n",
       "      <td>No</td>\n",
       "      <td>1</td>\n",
       "      <td>2.0</td>\n",
       "      <td>1532</td>\n",
       "      <td>2.00</td>\n",
       "      <td>...</td>\n",
       "      <td>No</td>\n",
       "      <td>No</td>\n",
       "      <td>Mumbai</td>\n",
       "      <td>02.Medium</td>\n",
       "      <td>01.High</td>\n",
       "      <td>14.0</td>\n",
       "      <td>20.0</td>\n",
       "      <td>No</td>\n",
       "      <td>Yes</td>\n",
       "      <td>Email Opened</td>\n",
       "    </tr>\n",
       "    <tr>\n",
       "      <th>3</th>\n",
       "      <td>0cc2df48-7cf4-4e39-9de9-19797f9b38cc</td>\n",
       "      <td>660719</td>\n",
       "      <td>Landing Page Submission</td>\n",
       "      <td>Direct Traffic</td>\n",
       "      <td>No</td>\n",
       "      <td>No</td>\n",
       "      <td>0</td>\n",
       "      <td>1.0</td>\n",
       "      <td>305</td>\n",
       "      <td>1.00</td>\n",
       "      <td>...</td>\n",
       "      <td>No</td>\n",
       "      <td>No</td>\n",
       "      <td>Mumbai</td>\n",
       "      <td>02.Medium</td>\n",
       "      <td>01.High</td>\n",
       "      <td>13.0</td>\n",
       "      <td>17.0</td>\n",
       "      <td>No</td>\n",
       "      <td>No</td>\n",
       "      <td>Modified</td>\n",
       "    </tr>\n",
       "    <tr>\n",
       "      <th>4</th>\n",
       "      <td>3256f628-e534-4826-9d63-4a8b88782852</td>\n",
       "      <td>660681</td>\n",
       "      <td>Landing Page Submission</td>\n",
       "      <td>Google</td>\n",
       "      <td>No</td>\n",
       "      <td>No</td>\n",
       "      <td>1</td>\n",
       "      <td>2.0</td>\n",
       "      <td>1428</td>\n",
       "      <td>1.00</td>\n",
       "      <td>...</td>\n",
       "      <td>No</td>\n",
       "      <td>No</td>\n",
       "      <td>Mumbai</td>\n",
       "      <td>02.Medium</td>\n",
       "      <td>01.High</td>\n",
       "      <td>15.0</td>\n",
       "      <td>18.0</td>\n",
       "      <td>No</td>\n",
       "      <td>No</td>\n",
       "      <td>Modified</td>\n",
       "    </tr>\n",
       "    <tr>\n",
       "      <th>...</th>\n",
       "      <td>...</td>\n",
       "      <td>...</td>\n",
       "      <td>...</td>\n",
       "      <td>...</td>\n",
       "      <td>...</td>\n",
       "      <td>...</td>\n",
       "      <td>...</td>\n",
       "      <td>...</td>\n",
       "      <td>...</td>\n",
       "      <td>...</td>\n",
       "      <td>...</td>\n",
       "      <td>...</td>\n",
       "      <td>...</td>\n",
       "      <td>...</td>\n",
       "      <td>...</td>\n",
       "      <td>...</td>\n",
       "      <td>...</td>\n",
       "      <td>...</td>\n",
       "      <td>...</td>\n",
       "      <td>...</td>\n",
       "      <td>...</td>\n",
       "    </tr>\n",
       "    <tr>\n",
       "      <th>9235</th>\n",
       "      <td>19d6451e-fcd6-407c-b83b-48e1af805ea9</td>\n",
       "      <td>579564</td>\n",
       "      <td>Landing Page Submission</td>\n",
       "      <td>Direct Traffic</td>\n",
       "      <td>Yes</td>\n",
       "      <td>No</td>\n",
       "      <td>1</td>\n",
       "      <td>8.0</td>\n",
       "      <td>1845</td>\n",
       "      <td>2.67</td>\n",
       "      <td>...</td>\n",
       "      <td>No</td>\n",
       "      <td>No</td>\n",
       "      <td>Mumbai</td>\n",
       "      <td>02.Medium</td>\n",
       "      <td>01.High</td>\n",
       "      <td>15.0</td>\n",
       "      <td>17.0</td>\n",
       "      <td>No</td>\n",
       "      <td>No</td>\n",
       "      <td>Email Marked Spam</td>\n",
       "    </tr>\n",
       "    <tr>\n",
       "      <th>9236</th>\n",
       "      <td>82a7005b-7196-4d56-95ce-a79f937a158d</td>\n",
       "      <td>579546</td>\n",
       "      <td>Landing Page Submission</td>\n",
       "      <td>Direct Traffic</td>\n",
       "      <td>No</td>\n",
       "      <td>No</td>\n",
       "      <td>0</td>\n",
       "      <td>2.0</td>\n",
       "      <td>238</td>\n",
       "      <td>2.00</td>\n",
       "      <td>...</td>\n",
       "      <td>No</td>\n",
       "      <td>No</td>\n",
       "      <td>Mumbai</td>\n",
       "      <td>02.Medium</td>\n",
       "      <td>01.High</td>\n",
       "      <td>14.0</td>\n",
       "      <td>19.0</td>\n",
       "      <td>No</td>\n",
       "      <td>Yes</td>\n",
       "      <td>SMS Sent</td>\n",
       "    </tr>\n",
       "    <tr>\n",
       "      <th>9237</th>\n",
       "      <td>aac550fe-a586-452d-8d3c-f1b62c94e02c</td>\n",
       "      <td>579545</td>\n",
       "      <td>Landing Page Submission</td>\n",
       "      <td>Direct Traffic</td>\n",
       "      <td>Yes</td>\n",
       "      <td>No</td>\n",
       "      <td>0</td>\n",
       "      <td>2.0</td>\n",
       "      <td>199</td>\n",
       "      <td>2.00</td>\n",
       "      <td>...</td>\n",
       "      <td>No</td>\n",
       "      <td>No</td>\n",
       "      <td>Mumbai</td>\n",
       "      <td>02.Medium</td>\n",
       "      <td>01.High</td>\n",
       "      <td>13.0</td>\n",
       "      <td>20.0</td>\n",
       "      <td>No</td>\n",
       "      <td>Yes</td>\n",
       "      <td>SMS Sent</td>\n",
       "    </tr>\n",
       "    <tr>\n",
       "      <th>9238</th>\n",
       "      <td>5330a7d1-2f2b-4df4-85d6-64ca2f6b95b9</td>\n",
       "      <td>579538</td>\n",
       "      <td>Landing Page Submission</td>\n",
       "      <td>Google</td>\n",
       "      <td>No</td>\n",
       "      <td>No</td>\n",
       "      <td>1</td>\n",
       "      <td>3.0</td>\n",
       "      <td>499</td>\n",
       "      <td>3.00</td>\n",
       "      <td>...</td>\n",
       "      <td>No</td>\n",
       "      <td>No</td>\n",
       "      <td>Other Metro Cities</td>\n",
       "      <td>02.Medium</td>\n",
       "      <td>02.Medium</td>\n",
       "      <td>15.0</td>\n",
       "      <td>16.0</td>\n",
       "      <td>No</td>\n",
       "      <td>No</td>\n",
       "      <td>SMS Sent</td>\n",
       "    </tr>\n",
       "    <tr>\n",
       "      <th>9239</th>\n",
       "      <td>571b5c8e-a5b2-4d57-8574-f2ffb06fdeff</td>\n",
       "      <td>579533</td>\n",
       "      <td>Landing Page Submission</td>\n",
       "      <td>Direct Traffic</td>\n",
       "      <td>No</td>\n",
       "      <td>No</td>\n",
       "      <td>1</td>\n",
       "      <td>6.0</td>\n",
       "      <td>1279</td>\n",
       "      <td>3.00</td>\n",
       "      <td>...</td>\n",
       "      <td>No</td>\n",
       "      <td>No</td>\n",
       "      <td>Other Cities</td>\n",
       "      <td>02.Medium</td>\n",
       "      <td>01.High</td>\n",
       "      <td>15.0</td>\n",
       "      <td>18.0</td>\n",
       "      <td>No</td>\n",
       "      <td>Yes</td>\n",
       "      <td>Modified</td>\n",
       "    </tr>\n",
       "  </tbody>\n",
       "</table>\n",
       "<p>9240 rows × 35 columns</p>\n",
       "</div>"
      ],
      "text/plain": [
       "                               Prospect ID  Lead Number  \\\n",
       "0     7927b2df-8bba-4d29-b9a2-b6e0beafe620       660737   \n",
       "1     2a272436-5132-4136-86fa-dcc88c88f482       660728   \n",
       "2     8cc8c611-a219-4f35-ad23-fdfd2656bd8a       660727   \n",
       "3     0cc2df48-7cf4-4e39-9de9-19797f9b38cc       660719   \n",
       "4     3256f628-e534-4826-9d63-4a8b88782852       660681   \n",
       "...                                    ...          ...   \n",
       "9235  19d6451e-fcd6-407c-b83b-48e1af805ea9       579564   \n",
       "9236  82a7005b-7196-4d56-95ce-a79f937a158d       579546   \n",
       "9237  aac550fe-a586-452d-8d3c-f1b62c94e02c       579545   \n",
       "9238  5330a7d1-2f2b-4df4-85d6-64ca2f6b95b9       579538   \n",
       "9239  571b5c8e-a5b2-4d57-8574-f2ffb06fdeff       579533   \n",
       "\n",
       "                  Lead Origin     Lead Source Do Not Email Do Not Call  \\\n",
       "0                         API      Olark Chat           No          No   \n",
       "1                         API  Organic Search           No          No   \n",
       "2     Landing Page Submission  Direct Traffic           No          No   \n",
       "3     Landing Page Submission  Direct Traffic           No          No   \n",
       "4     Landing Page Submission          Google           No          No   \n",
       "...                       ...             ...          ...         ...   \n",
       "9235  Landing Page Submission  Direct Traffic          Yes          No   \n",
       "9236  Landing Page Submission  Direct Traffic           No          No   \n",
       "9237  Landing Page Submission  Direct Traffic          Yes          No   \n",
       "9238  Landing Page Submission          Google           No          No   \n",
       "9239  Landing Page Submission  Direct Traffic           No          No   \n",
       "\n",
       "      Converted  TotalVisits  Total Time Spent on Website  \\\n",
       "0             0          0.0                            0   \n",
       "1             0          5.0                          674   \n",
       "2             1          2.0                         1532   \n",
       "3             0          1.0                          305   \n",
       "4             1          2.0                         1428   \n",
       "...         ...          ...                          ...   \n",
       "9235          1          8.0                         1845   \n",
       "9236          0          2.0                          238   \n",
       "9237          0          2.0                          199   \n",
       "9238          1          3.0                          499   \n",
       "9239          1          6.0                         1279   \n",
       "\n",
       "      Page Views Per Visit  ... Update me on Supply Chain Content  \\\n",
       "0                     0.00  ...                                No   \n",
       "1                     2.50  ...                                No   \n",
       "2                     2.00  ...                                No   \n",
       "3                     1.00  ...                                No   \n",
       "4                     1.00  ...                                No   \n",
       "...                    ...  ...                               ...   \n",
       "9235                  2.67  ...                                No   \n",
       "9236                  2.00  ...                                No   \n",
       "9237                  2.00  ...                                No   \n",
       "9238                  3.00  ...                                No   \n",
       "9239                  3.00  ...                                No   \n",
       "\n",
       "     Get updates on DM Content                City  \\\n",
       "0                           No              Mumbai   \n",
       "1                           No              Mumbai   \n",
       "2                           No              Mumbai   \n",
       "3                           No              Mumbai   \n",
       "4                           No              Mumbai   \n",
       "...                        ...                 ...   \n",
       "9235                        No              Mumbai   \n",
       "9236                        No              Mumbai   \n",
       "9237                        No              Mumbai   \n",
       "9238                        No  Other Metro Cities   \n",
       "9239                        No        Other Cities   \n",
       "\n",
       "     Asymmetrique Activity Index Asymmetrique Profile Index  \\\n",
       "0                      02.Medium                  02.Medium   \n",
       "1                      02.Medium                  02.Medium   \n",
       "2                      02.Medium                    01.High   \n",
       "3                      02.Medium                    01.High   \n",
       "4                      02.Medium                    01.High   \n",
       "...                          ...                        ...   \n",
       "9235                   02.Medium                    01.High   \n",
       "9236                   02.Medium                    01.High   \n",
       "9237                   02.Medium                    01.High   \n",
       "9238                   02.Medium                  02.Medium   \n",
       "9239                   02.Medium                    01.High   \n",
       "\n",
       "     Asymmetrique Activity Score Asymmetrique Profile Score  \\\n",
       "0                           15.0                       15.0   \n",
       "1                           15.0                       15.0   \n",
       "2                           14.0                       20.0   \n",
       "3                           13.0                       17.0   \n",
       "4                           15.0                       18.0   \n",
       "...                          ...                        ...   \n",
       "9235                        15.0                       17.0   \n",
       "9236                        14.0                       19.0   \n",
       "9237                        13.0                       20.0   \n",
       "9238                        15.0                       16.0   \n",
       "9239                        15.0                       18.0   \n",
       "\n",
       "     I agree to pay the amount through cheque  \\\n",
       "0                                          No   \n",
       "1                                          No   \n",
       "2                                          No   \n",
       "3                                          No   \n",
       "4                                          No   \n",
       "...                                       ...   \n",
       "9235                                       No   \n",
       "9236                                       No   \n",
       "9237                                       No   \n",
       "9238                                       No   \n",
       "9239                                       No   \n",
       "\n",
       "     A free copy of Mastering The Interview Last Notable Activity  \n",
       "0                                        No              Modified  \n",
       "1                                        No          Email Opened  \n",
       "2                                       Yes          Email Opened  \n",
       "3                                        No              Modified  \n",
       "4                                        No              Modified  \n",
       "...                                     ...                   ...  \n",
       "9235                                     No     Email Marked Spam  \n",
       "9236                                    Yes              SMS Sent  \n",
       "9237                                    Yes              SMS Sent  \n",
       "9238                                     No              SMS Sent  \n",
       "9239                                    Yes              Modified  \n",
       "\n",
       "[9240 rows x 35 columns]"
      ]
     },
     "execution_count": 13,
     "metadata": {},
     "output_type": "execute_result"
    }
   ],
   "source": [
    "replace_nan_with_mode(df_clean,cat_cols)"
   ]
  },
  {
   "cell_type": "code",
   "execution_count": 14,
   "id": "8f3d4d93",
   "metadata": {},
   "outputs": [
    {
     "data": {
      "text/plain": [
       "Prospect ID                                       0.000000\n",
       "Lead Number                                       0.000000\n",
       "Lead Origin                                       0.000000\n",
       "Lead Source                                       0.000000\n",
       "Do Not Email                                      0.000000\n",
       "Do Not Call                                       0.000000\n",
       "Converted                                         0.000000\n",
       "TotalVisits                                       0.000000\n",
       "Total Time Spent on Website                       0.000000\n",
       "Page Views Per Visit                              1.482684\n",
       "Last Activity                                     0.000000\n",
       "Country                                           0.000000\n",
       "Specialization                                    0.000000\n",
       "What is your current occupation                   0.000000\n",
       "What matters most to you in choosing a course     0.000000\n",
       "Search                                            0.000000\n",
       "Magazine                                          0.000000\n",
       "Newspaper Article                                 0.000000\n",
       "X Education Forums                                0.000000\n",
       "Newspaper                                         0.000000\n",
       "Digital Advertisement                             0.000000\n",
       "Through Recommendations                           0.000000\n",
       "Receive More Updates About Our Courses            0.000000\n",
       "Tags                                              0.000000\n",
       "Lead Quality                                      0.000000\n",
       "Update me on Supply Chain Content                 0.000000\n",
       "Get updates on DM Content                         0.000000\n",
       "City                                              0.000000\n",
       "Asymmetrique Activity Index                      45.649351\n",
       "Asymmetrique Profile Index                       45.649351\n",
       "Asymmetrique Activity Score                      45.649351\n",
       "Asymmetrique Profile Score                       45.649351\n",
       "I agree to pay the amount through cheque          0.000000\n",
       "A free copy of Mastering The Interview            0.000000\n",
       "Last Notable Activity                             0.000000\n",
       "dtype: float64"
      ]
     },
     "execution_count": 14,
     "metadata": {},
     "output_type": "execute_result"
    }
   ],
   "source": [
    "med = df_clean[\"TotalVisits\"].median()\n",
    "med\n",
    "df_clean[\"TotalVisits\"] = df_clean[\"TotalVisits\"].fillna(med)\n",
    "df_clean.isnull().mean()*100"
   ]
  },
  {
   "cell_type": "code",
   "execution_count": 15,
   "id": "0346888a",
   "metadata": {},
   "outputs": [
    {
     "data": {
      "text/plain": [
       "Prospect ID                                       0.000000\n",
       "Lead Number                                       0.000000\n",
       "Lead Origin                                       0.000000\n",
       "Lead Source                                       0.000000\n",
       "Do Not Email                                      0.000000\n",
       "Do Not Call                                       0.000000\n",
       "Converted                                         0.000000\n",
       "TotalVisits                                       0.000000\n",
       "Total Time Spent on Website                       0.000000\n",
       "Page Views Per Visit                              0.000000\n",
       "Last Activity                                     0.000000\n",
       "Country                                           0.000000\n",
       "Specialization                                    0.000000\n",
       "What is your current occupation                   0.000000\n",
       "What matters most to you in choosing a course     0.000000\n",
       "Search                                            0.000000\n",
       "Magazine                                          0.000000\n",
       "Newspaper Article                                 0.000000\n",
       "X Education Forums                                0.000000\n",
       "Newspaper                                         0.000000\n",
       "Digital Advertisement                             0.000000\n",
       "Through Recommendations                           0.000000\n",
       "Receive More Updates About Our Courses            0.000000\n",
       "Tags                                              0.000000\n",
       "Lead Quality                                      0.000000\n",
       "Update me on Supply Chain Content                 0.000000\n",
       "Get updates on DM Content                         0.000000\n",
       "City                                              0.000000\n",
       "Asymmetrique Activity Index                      45.649351\n",
       "Asymmetrique Profile Index                       45.649351\n",
       "Asymmetrique Activity Score                      45.649351\n",
       "Asymmetrique Profile Score                       45.649351\n",
       "I agree to pay the amount through cheque          0.000000\n",
       "A free copy of Mastering The Interview            0.000000\n",
       "Last Notable Activity                             0.000000\n",
       "dtype: float64"
      ]
     },
     "execution_count": 15,
     "metadata": {},
     "output_type": "execute_result"
    }
   ],
   "source": [
    "med_pvpv = df_clean[\"Page Views Per Visit\"].median()\n",
    "med_pvpv\n",
    "df_clean[\"Page Views Per Visit\"] = df_clean[\"Page Views Per Visit\"].fillna(med_pvpv)\n",
    "df_clean.isnull().mean()*100"
   ]
  },
  {
   "cell_type": "code",
   "execution_count": 16,
   "id": "53735c56",
   "metadata": {},
   "outputs": [],
   "source": [
    "#df_clean[\"Last Activity\"].mode()[0]"
   ]
  },
  {
   "cell_type": "code",
   "execution_count": 17,
   "id": "5db490ae",
   "metadata": {},
   "outputs": [],
   "source": [
    "#mod_la = df_clean[\"Last Activity\"].mode()[0]\n",
    "#mod_la\n",
    "#df_clean[\"Last Activity\"] = df_clean[\"Last Activity\"].fillna(mod_la)\n",
    "#df_clean.isnull().mean()*100"
   ]
  },
  {
   "cell_type": "code",
   "execution_count": 18,
   "id": "6d3f6191",
   "metadata": {},
   "outputs": [],
   "source": [
    "#mod_c = df_clean[\"Country\"].mode()[0]\n",
    "#mod_c\n",
    "#df_clean[\"Country\"] = df_clean[\"Country\"].fillna(mod_c)\n",
    "#df_clean.isnull().mean()*100"
   ]
  },
  {
   "cell_type": "code",
   "execution_count": 19,
   "id": "75588a83",
   "metadata": {},
   "outputs": [],
   "source": [
    "#mod_s = df_clean[\"Specialization\"].mode()[0]\n",
    "#mod_s\n",
    "#df_clean[\"Specialization\"] = df_clean[\"Specialization\"].fillna(mod_s)\n",
    "#df_clean.isnull().mean()*100"
   ]
  },
  {
   "cell_type": "code",
   "execution_count": 20,
   "id": "479e783e",
   "metadata": {},
   "outputs": [],
   "source": [
    "#mod_co = df_clean[\"What is your current occupation\"].mode()[0]\n",
    "#mod_co\n",
    "#df_clean[\"What is your current occupation\"] = df_clean[\"What is your current occupation\"].fillna(mod_co)\n",
    "#df_clean.isnull().mean()*100"
   ]
  },
  {
   "cell_type": "code",
   "execution_count": 21,
   "id": "33a29481",
   "metadata": {},
   "outputs": [],
   "source": [
    "#mod_cc = df_clean[\"What matters most to you in choosing a course\"].mode()[0]\n",
    "#mod_cc\n",
    "#df_clean[\"What matters most to you in choosing a course\"] = df_clean[\"What matters most to you in choosing a course\"].fillna(mod_cc)\n",
    "#df_clean.isnull().mean()*100"
   ]
  },
  {
   "cell_type": "code",
   "execution_count": 22,
   "id": "ff2d2a96",
   "metadata": {},
   "outputs": [],
   "source": [
    "#mod_t = df_clean[\"Tags\"].mode()[0]\n",
    "#mod_t\n",
    "#df_clean[\"Tags\"] = df_clean[\"Tags\"].fillna(mod_t)\n",
    "#df_clean.isnull().mean()*100"
   ]
  },
  {
   "cell_type": "code",
   "execution_count": 23,
   "id": "c5a313a0",
   "metadata": {},
   "outputs": [],
   "source": [
    "#mod_city = df_clean[\"City\"].mode()[0]\n",
    "#mod_city\n",
    "#df_clean[\"City\"] = df_clean[\"City\"].fillna(mod_city)\n",
    "#df_clean.isnull().mean()*100"
   ]
  },
  {
   "cell_type": "code",
   "execution_count": 24,
   "id": "9c41a7e8",
   "metadata": {},
   "outputs": [
    {
     "data": {
      "text/plain": [
       "Prospect ID                                       0.000000\n",
       "Lead Number                                       0.000000\n",
       "Lead Origin                                       0.000000\n",
       "Lead Source                                       0.000000\n",
       "Do Not Email                                      0.000000\n",
       "Do Not Call                                       0.000000\n",
       "Converted                                         0.000000\n",
       "TotalVisits                                       0.000000\n",
       "Total Time Spent on Website                       0.000000\n",
       "Page Views Per Visit                              0.000000\n",
       "Last Activity                                     0.000000\n",
       "Country                                           0.000000\n",
       "Specialization                                    0.000000\n",
       "What is your current occupation                   0.000000\n",
       "What matters most to you in choosing a course     0.000000\n",
       "Search                                            0.000000\n",
       "Magazine                                          0.000000\n",
       "Newspaper Article                                 0.000000\n",
       "X Education Forums                                0.000000\n",
       "Newspaper                                         0.000000\n",
       "Digital Advertisement                             0.000000\n",
       "Through Recommendations                           0.000000\n",
       "Receive More Updates About Our Courses            0.000000\n",
       "Tags                                              0.000000\n",
       "Lead Quality                                      0.000000\n",
       "Update me on Supply Chain Content                 0.000000\n",
       "Get updates on DM Content                         0.000000\n",
       "City                                              0.000000\n",
       "Asymmetrique Activity Index                      45.649351\n",
       "Asymmetrique Profile Index                       45.649351\n",
       "Asymmetrique Activity Score                       0.000000\n",
       "Asymmetrique Profile Score                       45.649351\n",
       "I agree to pay the amount through cheque          0.000000\n",
       "A free copy of Mastering The Interview            0.000000\n",
       "Last Notable Activity                             0.000000\n",
       "dtype: float64"
      ]
     },
     "execution_count": 24,
     "metadata": {},
     "output_type": "execute_result"
    }
   ],
   "source": [
    "med_aas = df_clean[\"Asymmetrique Activity Score\"].median()\n",
    "med_aas\n",
    "df_clean[\"Asymmetrique Activity Score\"] = df_clean[\"Asymmetrique Activity Score\"].fillna(med_aas)\n",
    "df_clean.isnull().mean()*100"
   ]
  },
  {
   "cell_type": "code",
   "execution_count": 25,
   "id": "c0f40cef",
   "metadata": {},
   "outputs": [
    {
     "data": {
      "text/plain": [
       "Prospect ID                                       0.000000\n",
       "Lead Number                                       0.000000\n",
       "Lead Origin                                       0.000000\n",
       "Lead Source                                       0.000000\n",
       "Do Not Email                                      0.000000\n",
       "Do Not Call                                       0.000000\n",
       "Converted                                         0.000000\n",
       "TotalVisits                                       0.000000\n",
       "Total Time Spent on Website                       0.000000\n",
       "Page Views Per Visit                              0.000000\n",
       "Last Activity                                     0.000000\n",
       "Country                                           0.000000\n",
       "Specialization                                    0.000000\n",
       "What is your current occupation                   0.000000\n",
       "What matters most to you in choosing a course     0.000000\n",
       "Search                                            0.000000\n",
       "Magazine                                          0.000000\n",
       "Newspaper Article                                 0.000000\n",
       "X Education Forums                                0.000000\n",
       "Newspaper                                         0.000000\n",
       "Digital Advertisement                             0.000000\n",
       "Through Recommendations                           0.000000\n",
       "Receive More Updates About Our Courses            0.000000\n",
       "Tags                                              0.000000\n",
       "Lead Quality                                      0.000000\n",
       "Update me on Supply Chain Content                 0.000000\n",
       "Get updates on DM Content                         0.000000\n",
       "City                                              0.000000\n",
       "Asymmetrique Activity Index                      45.649351\n",
       "Asymmetrique Profile Index                       45.649351\n",
       "Asymmetrique Activity Score                       0.000000\n",
       "Asymmetrique Profile Score                        0.000000\n",
       "I agree to pay the amount through cheque          0.000000\n",
       "A free copy of Mastering The Interview            0.000000\n",
       "Last Notable Activity                             0.000000\n",
       "dtype: float64"
      ]
     },
     "execution_count": 25,
     "metadata": {},
     "output_type": "execute_result"
    }
   ],
   "source": [
    "med_aps = df_clean[\"Asymmetrique Profile Score\"].median()\n",
    "med_aps\n",
    "df_clean[\"Asymmetrique Profile Score\"] = df_clean[\"Asymmetrique Profile Score\"].fillna(med_aps)\n",
    "df_clean.isnull().mean()*100"
   ]
  },
  {
   "cell_type": "code",
   "execution_count": 26,
   "id": "969f6135",
   "metadata": {},
   "outputs": [
    {
     "data": {
      "text/plain": [
       "['02.Medium', '01.High', '03.Low', nan]"
      ]
     },
     "execution_count": 26,
     "metadata": {},
     "output_type": "execute_result"
    }
   ],
   "source": [
    "#df_clean.info()\n",
    "df_clean['Asymmetrique Activity Index'].unique().tolist()\n",
    "#print(df_clean[\"Asymmetrique Activity Index\"][0].split('.')[0])#.split('.')[0].strip())"
   ]
  },
  {
   "cell_type": "code",
   "execution_count": 27,
   "id": "bd3294c7",
   "metadata": {},
   "outputs": [],
   "source": [
    "df_clean['Asymmetrique Activity Index Numeric'] = list(map(lambda x: x.split('.')[0] if isinstance(x, str) else x, df_clean['Asymmetrique Activity Index']))"
   ]
  },
  {
   "cell_type": "code",
   "execution_count": 28,
   "id": "dc8d661d",
   "metadata": {},
   "outputs": [
    {
     "data": {
      "text/plain": [
       "Prospect ID                                       0.000000\n",
       "Lead Number                                       0.000000\n",
       "Lead Origin                                       0.000000\n",
       "Lead Source                                       0.000000\n",
       "Do Not Email                                      0.000000\n",
       "Do Not Call                                       0.000000\n",
       "Converted                                         0.000000\n",
       "TotalVisits                                       0.000000\n",
       "Total Time Spent on Website                       0.000000\n",
       "Page Views Per Visit                              0.000000\n",
       "Last Activity                                     0.000000\n",
       "Country                                           0.000000\n",
       "Specialization                                    0.000000\n",
       "What is your current occupation                   0.000000\n",
       "What matters most to you in choosing a course     0.000000\n",
       "Search                                            0.000000\n",
       "Magazine                                          0.000000\n",
       "Newspaper Article                                 0.000000\n",
       "X Education Forums                                0.000000\n",
       "Newspaper                                         0.000000\n",
       "Digital Advertisement                             0.000000\n",
       "Through Recommendations                           0.000000\n",
       "Receive More Updates About Our Courses            0.000000\n",
       "Tags                                              0.000000\n",
       "Lead Quality                                      0.000000\n",
       "Update me on Supply Chain Content                 0.000000\n",
       "Get updates on DM Content                         0.000000\n",
       "City                                              0.000000\n",
       "Asymmetrique Activity Index                      45.649351\n",
       "Asymmetrique Profile Index                       45.649351\n",
       "Asymmetrique Activity Score                       0.000000\n",
       "Asymmetrique Profile Score                        0.000000\n",
       "I agree to pay the amount through cheque          0.000000\n",
       "A free copy of Mastering The Interview            0.000000\n",
       "Last Notable Activity                             0.000000\n",
       "Asymmetrique Activity Index Numeric              45.649351\n",
       "dtype: float64"
      ]
     },
     "execution_count": 28,
     "metadata": {},
     "output_type": "execute_result"
    }
   ],
   "source": [
    "df_clean.isnull().mean()*100"
   ]
  },
  {
   "cell_type": "code",
   "execution_count": 29,
   "id": "db0eb0d2",
   "metadata": {},
   "outputs": [
    {
     "data": {
      "text/plain": [
       "Prospect ID                                       0.000000\n",
       "Lead Number                                       0.000000\n",
       "Lead Origin                                       0.000000\n",
       "Lead Source                                       0.000000\n",
       "Do Not Email                                      0.000000\n",
       "Do Not Call                                       0.000000\n",
       "Converted                                         0.000000\n",
       "TotalVisits                                       0.000000\n",
       "Total Time Spent on Website                       0.000000\n",
       "Page Views Per Visit                              0.000000\n",
       "Last Activity                                     0.000000\n",
       "Country                                           0.000000\n",
       "Specialization                                    0.000000\n",
       "What is your current occupation                   0.000000\n",
       "What matters most to you in choosing a course     0.000000\n",
       "Search                                            0.000000\n",
       "Magazine                                          0.000000\n",
       "Newspaper Article                                 0.000000\n",
       "X Education Forums                                0.000000\n",
       "Newspaper                                         0.000000\n",
       "Digital Advertisement                             0.000000\n",
       "Through Recommendations                           0.000000\n",
       "Receive More Updates About Our Courses            0.000000\n",
       "Tags                                              0.000000\n",
       "Lead Quality                                      0.000000\n",
       "Update me on Supply Chain Content                 0.000000\n",
       "Get updates on DM Content                         0.000000\n",
       "City                                              0.000000\n",
       "Asymmetrique Activity Index                      45.649351\n",
       "Asymmetrique Profile Index                       45.649351\n",
       "Asymmetrique Activity Score                       0.000000\n",
       "Asymmetrique Profile Score                        0.000000\n",
       "I agree to pay the amount through cheque          0.000000\n",
       "A free copy of Mastering The Interview            0.000000\n",
       "Last Notable Activity                             0.000000\n",
       "Asymmetrique Activity Index Numeric               0.000000\n",
       "dtype: float64"
      ]
     },
     "execution_count": 29,
     "metadata": {},
     "output_type": "execute_result"
    }
   ],
   "source": [
    "med_aain = df_clean[\"Asymmetrique Activity Index Numeric\"].median()\n",
    "med_aain\n",
    "df_clean[\"Asymmetrique Activity Index Numeric\"] = df_clean[\"Asymmetrique Activity Index Numeric\"].fillna(med_aain)\n",
    "df_clean.isnull().mean()*100"
   ]
  },
  {
   "cell_type": "code",
   "execution_count": 30,
   "id": "ef469931",
   "metadata": {},
   "outputs": [
    {
     "data": {
      "text/plain": [
       "['02.Medium', '01.High', '03.Low', nan]"
      ]
     },
     "execution_count": 30,
     "metadata": {},
     "output_type": "execute_result"
    }
   ],
   "source": [
    "df_clean['Asymmetrique Profile Index'].unique().tolist()"
   ]
  },
  {
   "cell_type": "code",
   "execution_count": 31,
   "id": "853bcf78",
   "metadata": {},
   "outputs": [],
   "source": [
    "df_clean['Asymmetrique Profile Index Numeric'] = list(map(lambda x: x.split('.')[0] if isinstance(x, str) else x, df_clean['Asymmetrique Profile Index']))"
   ]
  },
  {
   "cell_type": "code",
   "execution_count": 32,
   "id": "8417d776",
   "metadata": {},
   "outputs": [
    {
     "data": {
      "text/plain": [
       "Prospect ID                                       0.000000\n",
       "Lead Number                                       0.000000\n",
       "Lead Origin                                       0.000000\n",
       "Lead Source                                       0.000000\n",
       "Do Not Email                                      0.000000\n",
       "Do Not Call                                       0.000000\n",
       "Converted                                         0.000000\n",
       "TotalVisits                                       0.000000\n",
       "Total Time Spent on Website                       0.000000\n",
       "Page Views Per Visit                              0.000000\n",
       "Last Activity                                     0.000000\n",
       "Country                                           0.000000\n",
       "Specialization                                    0.000000\n",
       "What is your current occupation                   0.000000\n",
       "What matters most to you in choosing a course     0.000000\n",
       "Search                                            0.000000\n",
       "Magazine                                          0.000000\n",
       "Newspaper Article                                 0.000000\n",
       "X Education Forums                                0.000000\n",
       "Newspaper                                         0.000000\n",
       "Digital Advertisement                             0.000000\n",
       "Through Recommendations                           0.000000\n",
       "Receive More Updates About Our Courses            0.000000\n",
       "Tags                                              0.000000\n",
       "Lead Quality                                      0.000000\n",
       "Update me on Supply Chain Content                 0.000000\n",
       "Get updates on DM Content                         0.000000\n",
       "City                                              0.000000\n",
       "Asymmetrique Activity Index                      45.649351\n",
       "Asymmetrique Profile Index                       45.649351\n",
       "Asymmetrique Activity Score                       0.000000\n",
       "Asymmetrique Profile Score                        0.000000\n",
       "I agree to pay the amount through cheque          0.000000\n",
       "A free copy of Mastering The Interview            0.000000\n",
       "Last Notable Activity                             0.000000\n",
       "Asymmetrique Activity Index Numeric               0.000000\n",
       "Asymmetrique Profile Index Numeric                0.000000\n",
       "dtype: float64"
      ]
     },
     "execution_count": 32,
     "metadata": {},
     "output_type": "execute_result"
    }
   ],
   "source": [
    "med_apin = df_clean[\"Asymmetrique Profile Index Numeric\"].median()\n",
    "med_apin\n",
    "df_clean[\"Asymmetrique Profile Index Numeric\"] = df_clean[\"Asymmetrique Profile Index Numeric\"].fillna(med_apin)\n",
    "df_clean.isnull().mean()*100"
   ]
  },
  {
   "cell_type": "code",
   "execution_count": 33,
   "id": "6805b10d",
   "metadata": {},
   "outputs": [],
   "source": [
    "df_clean=df_clean.drop([\"Asymmetrique Activity Index\"],axis=1)\n",
    "df_clean=df_clean.drop([\"Asymmetrique Profile Index\"],axis=1)"
   ]
  },
  {
   "cell_type": "code",
   "execution_count": 34,
   "id": "6f12315b",
   "metadata": {},
   "outputs": [
    {
     "data": {
      "text/plain": [
       "Prospect ID                                      0.0\n",
       "Lead Number                                      0.0\n",
       "Lead Origin                                      0.0\n",
       "Lead Source                                      0.0\n",
       "Do Not Email                                     0.0\n",
       "Do Not Call                                      0.0\n",
       "Converted                                        0.0\n",
       "TotalVisits                                      0.0\n",
       "Total Time Spent on Website                      0.0\n",
       "Page Views Per Visit                             0.0\n",
       "Last Activity                                    0.0\n",
       "Country                                          0.0\n",
       "Specialization                                   0.0\n",
       "What is your current occupation                  0.0\n",
       "What matters most to you in choosing a course    0.0\n",
       "Search                                           0.0\n",
       "Magazine                                         0.0\n",
       "Newspaper Article                                0.0\n",
       "X Education Forums                               0.0\n",
       "Newspaper                                        0.0\n",
       "Digital Advertisement                            0.0\n",
       "Through Recommendations                          0.0\n",
       "Receive More Updates About Our Courses           0.0\n",
       "Tags                                             0.0\n",
       "Lead Quality                                     0.0\n",
       "Update me on Supply Chain Content                0.0\n",
       "Get updates on DM Content                        0.0\n",
       "City                                             0.0\n",
       "Asymmetrique Activity Score                      0.0\n",
       "Asymmetrique Profile Score                       0.0\n",
       "I agree to pay the amount through cheque         0.0\n",
       "A free copy of Mastering The Interview           0.0\n",
       "Last Notable Activity                            0.0\n",
       "Asymmetrique Activity Index Numeric              0.0\n",
       "Asymmetrique Profile Index Numeric               0.0\n",
       "dtype: float64"
      ]
     },
     "execution_count": 34,
     "metadata": {},
     "output_type": "execute_result"
    }
   ],
   "source": [
    "df_clean.isnull().mean()*100"
   ]
  },
  {
   "cell_type": "code",
   "execution_count": 35,
   "id": "736f89ac",
   "metadata": {},
   "outputs": [
    {
     "data": {
      "text/html": [
       "<div>\n",
       "<style scoped>\n",
       "    .dataframe tbody tr th:only-of-type {\n",
       "        vertical-align: middle;\n",
       "    }\n",
       "\n",
       "    .dataframe tbody tr th {\n",
       "        vertical-align: top;\n",
       "    }\n",
       "\n",
       "    .dataframe thead th {\n",
       "        text-align: right;\n",
       "    }\n",
       "</style>\n",
       "<table border=\"1\" class=\"dataframe\">\n",
       "  <thead>\n",
       "    <tr style=\"text-align: right;\">\n",
       "      <th></th>\n",
       "      <th>Lead Origin</th>\n",
       "      <th>Lead Source</th>\n",
       "      <th>Do Not Email</th>\n",
       "      <th>Do Not Call</th>\n",
       "      <th>Converted</th>\n",
       "      <th>TotalVisits</th>\n",
       "      <th>Total Time Spent on Website</th>\n",
       "      <th>Page Views Per Visit</th>\n",
       "      <th>Last Activity</th>\n",
       "      <th>Country</th>\n",
       "      <th>...</th>\n",
       "      <th>Update me on Supply Chain Content</th>\n",
       "      <th>Get updates on DM Content</th>\n",
       "      <th>City</th>\n",
       "      <th>Asymmetrique Activity Score</th>\n",
       "      <th>Asymmetrique Profile Score</th>\n",
       "      <th>I agree to pay the amount through cheque</th>\n",
       "      <th>A free copy of Mastering The Interview</th>\n",
       "      <th>Last Notable Activity</th>\n",
       "      <th>Asymmetrique Activity Index Numeric</th>\n",
       "      <th>Asymmetrique Profile Index Numeric</th>\n",
       "    </tr>\n",
       "  </thead>\n",
       "  <tbody>\n",
       "    <tr>\n",
       "      <th>0</th>\n",
       "      <td>API</td>\n",
       "      <td>Olark Chat</td>\n",
       "      <td>No</td>\n",
       "      <td>No</td>\n",
       "      <td>0</td>\n",
       "      <td>0.0</td>\n",
       "      <td>0</td>\n",
       "      <td>0.0</td>\n",
       "      <td>Page Visited on Website</td>\n",
       "      <td>India</td>\n",
       "      <td>...</td>\n",
       "      <td>No</td>\n",
       "      <td>No</td>\n",
       "      <td>Mumbai</td>\n",
       "      <td>15.0</td>\n",
       "      <td>15.0</td>\n",
       "      <td>No</td>\n",
       "      <td>No</td>\n",
       "      <td>Modified</td>\n",
       "      <td>02</td>\n",
       "      <td>02</td>\n",
       "    </tr>\n",
       "    <tr>\n",
       "      <th>1</th>\n",
       "      <td>API</td>\n",
       "      <td>Organic Search</td>\n",
       "      <td>No</td>\n",
       "      <td>No</td>\n",
       "      <td>0</td>\n",
       "      <td>5.0</td>\n",
       "      <td>674</td>\n",
       "      <td>2.5</td>\n",
       "      <td>Email Opened</td>\n",
       "      <td>India</td>\n",
       "      <td>...</td>\n",
       "      <td>No</td>\n",
       "      <td>No</td>\n",
       "      <td>Mumbai</td>\n",
       "      <td>15.0</td>\n",
       "      <td>15.0</td>\n",
       "      <td>No</td>\n",
       "      <td>No</td>\n",
       "      <td>Email Opened</td>\n",
       "      <td>02</td>\n",
       "      <td>02</td>\n",
       "    </tr>\n",
       "    <tr>\n",
       "      <th>2</th>\n",
       "      <td>Landing Page Submission</td>\n",
       "      <td>Direct Traffic</td>\n",
       "      <td>No</td>\n",
       "      <td>No</td>\n",
       "      <td>1</td>\n",
       "      <td>2.0</td>\n",
       "      <td>1532</td>\n",
       "      <td>2.0</td>\n",
       "      <td>Email Opened</td>\n",
       "      <td>India</td>\n",
       "      <td>...</td>\n",
       "      <td>No</td>\n",
       "      <td>No</td>\n",
       "      <td>Mumbai</td>\n",
       "      <td>14.0</td>\n",
       "      <td>20.0</td>\n",
       "      <td>No</td>\n",
       "      <td>Yes</td>\n",
       "      <td>Email Opened</td>\n",
       "      <td>02</td>\n",
       "      <td>01</td>\n",
       "    </tr>\n",
       "    <tr>\n",
       "      <th>3</th>\n",
       "      <td>Landing Page Submission</td>\n",
       "      <td>Direct Traffic</td>\n",
       "      <td>No</td>\n",
       "      <td>No</td>\n",
       "      <td>0</td>\n",
       "      <td>1.0</td>\n",
       "      <td>305</td>\n",
       "      <td>1.0</td>\n",
       "      <td>Unreachable</td>\n",
       "      <td>India</td>\n",
       "      <td>...</td>\n",
       "      <td>No</td>\n",
       "      <td>No</td>\n",
       "      <td>Mumbai</td>\n",
       "      <td>13.0</td>\n",
       "      <td>17.0</td>\n",
       "      <td>No</td>\n",
       "      <td>No</td>\n",
       "      <td>Modified</td>\n",
       "      <td>02</td>\n",
       "      <td>01</td>\n",
       "    </tr>\n",
       "    <tr>\n",
       "      <th>4</th>\n",
       "      <td>Landing Page Submission</td>\n",
       "      <td>Google</td>\n",
       "      <td>No</td>\n",
       "      <td>No</td>\n",
       "      <td>1</td>\n",
       "      <td>2.0</td>\n",
       "      <td>1428</td>\n",
       "      <td>1.0</td>\n",
       "      <td>Converted to Lead</td>\n",
       "      <td>India</td>\n",
       "      <td>...</td>\n",
       "      <td>No</td>\n",
       "      <td>No</td>\n",
       "      <td>Mumbai</td>\n",
       "      <td>15.0</td>\n",
       "      <td>18.0</td>\n",
       "      <td>No</td>\n",
       "      <td>No</td>\n",
       "      <td>Modified</td>\n",
       "      <td>02</td>\n",
       "      <td>01</td>\n",
       "    </tr>\n",
       "  </tbody>\n",
       "</table>\n",
       "<p>5 rows × 33 columns</p>\n",
       "</div>"
      ],
      "text/plain": [
       "               Lead Origin     Lead Source Do Not Email Do Not Call  \\\n",
       "0                      API      Olark Chat           No          No   \n",
       "1                      API  Organic Search           No          No   \n",
       "2  Landing Page Submission  Direct Traffic           No          No   \n",
       "3  Landing Page Submission  Direct Traffic           No          No   \n",
       "4  Landing Page Submission          Google           No          No   \n",
       "\n",
       "   Converted  TotalVisits  Total Time Spent on Website  Page Views Per Visit  \\\n",
       "0          0          0.0                            0                   0.0   \n",
       "1          0          5.0                          674                   2.5   \n",
       "2          1          2.0                         1532                   2.0   \n",
       "3          0          1.0                          305                   1.0   \n",
       "4          1          2.0                         1428                   1.0   \n",
       "\n",
       "             Last Activity Country  ... Update me on Supply Chain Content  \\\n",
       "0  Page Visited on Website   India  ...                                No   \n",
       "1             Email Opened   India  ...                                No   \n",
       "2             Email Opened   India  ...                                No   \n",
       "3              Unreachable   India  ...                                No   \n",
       "4        Converted to Lead   India  ...                                No   \n",
       "\n",
       "  Get updates on DM Content    City Asymmetrique Activity Score  \\\n",
       "0                        No  Mumbai                        15.0   \n",
       "1                        No  Mumbai                        15.0   \n",
       "2                        No  Mumbai                        14.0   \n",
       "3                        No  Mumbai                        13.0   \n",
       "4                        No  Mumbai                        15.0   \n",
       "\n",
       "  Asymmetrique Profile Score I agree to pay the amount through cheque  \\\n",
       "0                       15.0                                       No   \n",
       "1                       15.0                                       No   \n",
       "2                       20.0                                       No   \n",
       "3                       17.0                                       No   \n",
       "4                       18.0                                       No   \n",
       "\n",
       "  A free copy of Mastering The Interview Last Notable Activity  \\\n",
       "0                                     No              Modified   \n",
       "1                                     No          Email Opened   \n",
       "2                                    Yes          Email Opened   \n",
       "3                                     No              Modified   \n",
       "4                                     No              Modified   \n",
       "\n",
       "  Asymmetrique Activity Index Numeric Asymmetrique Profile Index Numeric  \n",
       "0                                  02                                 02  \n",
       "1                                  02                                 02  \n",
       "2                                  02                                 01  \n",
       "3                                  02                                 01  \n",
       "4                                  02                                 01  \n",
       "\n",
       "[5 rows x 33 columns]"
      ]
     },
     "execution_count": 35,
     "metadata": {},
     "output_type": "execute_result"
    }
   ],
   "source": [
    "extra_cols=[\"Prospect ID\",\"Lead Number\"]\n",
    "df_clean.drop(extra_cols, axis=1, inplace=True)\n",
    "df_clean.head()"
   ]
  },
  {
   "cell_type": "code",
   "execution_count": 36,
   "id": "b930cb2d",
   "metadata": {},
   "outputs": [
    {
     "name": "stdout",
     "output_type": "stream",
     "text": [
      "<class 'pandas.core.frame.DataFrame'>\n",
      "RangeIndex: 9240 entries, 0 to 9239\n",
      "Data columns (total 33 columns):\n",
      " #   Column                                         Non-Null Count  Dtype  \n",
      "---  ------                                         --------------  -----  \n",
      " 0   Lead Origin                                    9240 non-null   object \n",
      " 1   Lead Source                                    9240 non-null   object \n",
      " 2   Do Not Email                                   9240 non-null   object \n",
      " 3   Do Not Call                                    9240 non-null   object \n",
      " 4   Converted                                      9240 non-null   int64  \n",
      " 5   TotalVisits                                    9240 non-null   float64\n",
      " 6   Total Time Spent on Website                    9240 non-null   int64  \n",
      " 7   Page Views Per Visit                           9240 non-null   float64\n",
      " 8   Last Activity                                  9240 non-null   object \n",
      " 9   Country                                        9240 non-null   object \n",
      " 10  Specialization                                 9240 non-null   object \n",
      " 11  What is your current occupation                9240 non-null   object \n",
      " 12  What matters most to you in choosing a course  9240 non-null   object \n",
      " 13  Search                                         9240 non-null   object \n",
      " 14  Magazine                                       9240 non-null   object \n",
      " 15  Newspaper Article                              9240 non-null   object \n",
      " 16  X Education Forums                             9240 non-null   object \n",
      " 17  Newspaper                                      9240 non-null   object \n",
      " 18  Digital Advertisement                          9240 non-null   object \n",
      " 19  Through Recommendations                        9240 non-null   object \n",
      " 20  Receive More Updates About Our Courses         9240 non-null   object \n",
      " 21  Tags                                           9240 non-null   object \n",
      " 22  Lead Quality                                   9240 non-null   object \n",
      " 23  Update me on Supply Chain Content              9240 non-null   object \n",
      " 24  Get updates on DM Content                      9240 non-null   object \n",
      " 25  City                                           9240 non-null   object \n",
      " 26  Asymmetrique Activity Score                    9240 non-null   float64\n",
      " 27  Asymmetrique Profile Score                     9240 non-null   float64\n",
      " 28  I agree to pay the amount through cheque       9240 non-null   object \n",
      " 29  A free copy of Mastering The Interview         9240 non-null   object \n",
      " 30  Last Notable Activity                          9240 non-null   object \n",
      " 31  Asymmetrique Activity Index Numeric            9240 non-null   object \n",
      " 32  Asymmetrique Profile Index Numeric             9240 non-null   object \n",
      "dtypes: float64(4), int64(2), object(27)\n",
      "memory usage: 2.3+ MB\n"
     ]
    }
   ],
   "source": [
    "df_clean.info()"
   ]
  },
  {
   "cell_type": "code",
   "execution_count": 37,
   "id": "b7bb23d5",
   "metadata": {},
   "outputs": [
    {
     "data": {
      "text/plain": [
       "['02', '01', '03', 2.0]"
      ]
     },
     "execution_count": 37,
     "metadata": {},
     "output_type": "execute_result"
    }
   ],
   "source": [
    "df_clean['Asymmetrique Activity Index Numeric'].unique().tolist()"
   ]
  },
  {
   "cell_type": "code",
   "execution_count": 38,
   "id": "8132f571",
   "metadata": {},
   "outputs": [],
   "source": [
    "df_clean['Asymmetrique Activity Index Int'] = df_clean['Asymmetrique Activity Index Numeric'].apply(lambda x: int(x) if isinstance(x, str) else int(float(x)))"
   ]
  },
  {
   "cell_type": "code",
   "execution_count": 39,
   "id": "ca28baef",
   "metadata": {},
   "outputs": [
    {
     "name": "stdout",
     "output_type": "stream",
     "text": [
      "<class 'pandas.core.frame.DataFrame'>\n",
      "RangeIndex: 9240 entries, 0 to 9239\n",
      "Data columns (total 34 columns):\n",
      " #   Column                                         Non-Null Count  Dtype  \n",
      "---  ------                                         --------------  -----  \n",
      " 0   Lead Origin                                    9240 non-null   object \n",
      " 1   Lead Source                                    9240 non-null   object \n",
      " 2   Do Not Email                                   9240 non-null   object \n",
      " 3   Do Not Call                                    9240 non-null   object \n",
      " 4   Converted                                      9240 non-null   int64  \n",
      " 5   TotalVisits                                    9240 non-null   float64\n",
      " 6   Total Time Spent on Website                    9240 non-null   int64  \n",
      " 7   Page Views Per Visit                           9240 non-null   float64\n",
      " 8   Last Activity                                  9240 non-null   object \n",
      " 9   Country                                        9240 non-null   object \n",
      " 10  Specialization                                 9240 non-null   object \n",
      " 11  What is your current occupation                9240 non-null   object \n",
      " 12  What matters most to you in choosing a course  9240 non-null   object \n",
      " 13  Search                                         9240 non-null   object \n",
      " 14  Magazine                                       9240 non-null   object \n",
      " 15  Newspaper Article                              9240 non-null   object \n",
      " 16  X Education Forums                             9240 non-null   object \n",
      " 17  Newspaper                                      9240 non-null   object \n",
      " 18  Digital Advertisement                          9240 non-null   object \n",
      " 19  Through Recommendations                        9240 non-null   object \n",
      " 20  Receive More Updates About Our Courses         9240 non-null   object \n",
      " 21  Tags                                           9240 non-null   object \n",
      " 22  Lead Quality                                   9240 non-null   object \n",
      " 23  Update me on Supply Chain Content              9240 non-null   object \n",
      " 24  Get updates on DM Content                      9240 non-null   object \n",
      " 25  City                                           9240 non-null   object \n",
      " 26  Asymmetrique Activity Score                    9240 non-null   float64\n",
      " 27  Asymmetrique Profile Score                     9240 non-null   float64\n",
      " 28  I agree to pay the amount through cheque       9240 non-null   object \n",
      " 29  A free copy of Mastering The Interview         9240 non-null   object \n",
      " 30  Last Notable Activity                          9240 non-null   object \n",
      " 31  Asymmetrique Activity Index Numeric            9240 non-null   object \n",
      " 32  Asymmetrique Profile Index Numeric             9240 non-null   object \n",
      " 33  Asymmetrique Activity Index Int                9240 non-null   int64  \n",
      "dtypes: float64(4), int64(3), object(27)\n",
      "memory usage: 2.4+ MB\n"
     ]
    }
   ],
   "source": [
    "df_clean.info()"
   ]
  },
  {
   "cell_type": "code",
   "execution_count": 40,
   "id": "6cbb2246",
   "metadata": {},
   "outputs": [],
   "source": [
    "df_clean['Asymmetrique Profile Index Int'] = df_clean['Asymmetrique Profile Index Numeric'].apply(lambda x: int(x) if isinstance(x, str) else int(float(x)))"
   ]
  },
  {
   "cell_type": "code",
   "execution_count": 41,
   "id": "ebcd8075",
   "metadata": {},
   "outputs": [
    {
     "name": "stdout",
     "output_type": "stream",
     "text": [
      "<class 'pandas.core.frame.DataFrame'>\n",
      "RangeIndex: 9240 entries, 0 to 9239\n",
      "Data columns (total 35 columns):\n",
      " #   Column                                         Non-Null Count  Dtype  \n",
      "---  ------                                         --------------  -----  \n",
      " 0   Lead Origin                                    9240 non-null   object \n",
      " 1   Lead Source                                    9240 non-null   object \n",
      " 2   Do Not Email                                   9240 non-null   object \n",
      " 3   Do Not Call                                    9240 non-null   object \n",
      " 4   Converted                                      9240 non-null   int64  \n",
      " 5   TotalVisits                                    9240 non-null   float64\n",
      " 6   Total Time Spent on Website                    9240 non-null   int64  \n",
      " 7   Page Views Per Visit                           9240 non-null   float64\n",
      " 8   Last Activity                                  9240 non-null   object \n",
      " 9   Country                                        9240 non-null   object \n",
      " 10  Specialization                                 9240 non-null   object \n",
      " 11  What is your current occupation                9240 non-null   object \n",
      " 12  What matters most to you in choosing a course  9240 non-null   object \n",
      " 13  Search                                         9240 non-null   object \n",
      " 14  Magazine                                       9240 non-null   object \n",
      " 15  Newspaper Article                              9240 non-null   object \n",
      " 16  X Education Forums                             9240 non-null   object \n",
      " 17  Newspaper                                      9240 non-null   object \n",
      " 18  Digital Advertisement                          9240 non-null   object \n",
      " 19  Through Recommendations                        9240 non-null   object \n",
      " 20  Receive More Updates About Our Courses         9240 non-null   object \n",
      " 21  Tags                                           9240 non-null   object \n",
      " 22  Lead Quality                                   9240 non-null   object \n",
      " 23  Update me on Supply Chain Content              9240 non-null   object \n",
      " 24  Get updates on DM Content                      9240 non-null   object \n",
      " 25  City                                           9240 non-null   object \n",
      " 26  Asymmetrique Activity Score                    9240 non-null   float64\n",
      " 27  Asymmetrique Profile Score                     9240 non-null   float64\n",
      " 28  I agree to pay the amount through cheque       9240 non-null   object \n",
      " 29  A free copy of Mastering The Interview         9240 non-null   object \n",
      " 30  Last Notable Activity                          9240 non-null   object \n",
      " 31  Asymmetrique Activity Index Numeric            9240 non-null   object \n",
      " 32  Asymmetrique Profile Index Numeric             9240 non-null   object \n",
      " 33  Asymmetrique Activity Index Int                9240 non-null   int64  \n",
      " 34  Asymmetrique Profile Index Int                 9240 non-null   int64  \n",
      "dtypes: float64(4), int64(4), object(27)\n",
      "memory usage: 2.5+ MB\n"
     ]
    }
   ],
   "source": [
    "df_clean.info()"
   ]
  },
  {
   "cell_type": "code",
   "execution_count": 42,
   "id": "098de30e",
   "metadata": {},
   "outputs": [],
   "source": [
    "extra_cols=[\"Asymmetrique Activity Index Numeric\",\"Asymmetrique Profile Index Numeric\"]\n",
    "df_clean.drop(extra_cols, axis=1, inplace=True)"
   ]
  },
  {
   "cell_type": "code",
   "execution_count": 43,
   "id": "ef125d19",
   "metadata": {},
   "outputs": [
    {
     "name": "stdout",
     "output_type": "stream",
     "text": [
      "<class 'pandas.core.frame.DataFrame'>\n",
      "RangeIndex: 9240 entries, 0 to 9239\n",
      "Data columns (total 33 columns):\n",
      " #   Column                                         Non-Null Count  Dtype  \n",
      "---  ------                                         --------------  -----  \n",
      " 0   Lead Origin                                    9240 non-null   object \n",
      " 1   Lead Source                                    9240 non-null   object \n",
      " 2   Do Not Email                                   9240 non-null   object \n",
      " 3   Do Not Call                                    9240 non-null   object \n",
      " 4   Converted                                      9240 non-null   int64  \n",
      " 5   TotalVisits                                    9240 non-null   float64\n",
      " 6   Total Time Spent on Website                    9240 non-null   int64  \n",
      " 7   Page Views Per Visit                           9240 non-null   float64\n",
      " 8   Last Activity                                  9240 non-null   object \n",
      " 9   Country                                        9240 non-null   object \n",
      " 10  Specialization                                 9240 non-null   object \n",
      " 11  What is your current occupation                9240 non-null   object \n",
      " 12  What matters most to you in choosing a course  9240 non-null   object \n",
      " 13  Search                                         9240 non-null   object \n",
      " 14  Magazine                                       9240 non-null   object \n",
      " 15  Newspaper Article                              9240 non-null   object \n",
      " 16  X Education Forums                             9240 non-null   object \n",
      " 17  Newspaper                                      9240 non-null   object \n",
      " 18  Digital Advertisement                          9240 non-null   object \n",
      " 19  Through Recommendations                        9240 non-null   object \n",
      " 20  Receive More Updates About Our Courses         9240 non-null   object \n",
      " 21  Tags                                           9240 non-null   object \n",
      " 22  Lead Quality                                   9240 non-null   object \n",
      " 23  Update me on Supply Chain Content              9240 non-null   object \n",
      " 24  Get updates on DM Content                      9240 non-null   object \n",
      " 25  City                                           9240 non-null   object \n",
      " 26  Asymmetrique Activity Score                    9240 non-null   float64\n",
      " 27  Asymmetrique Profile Score                     9240 non-null   float64\n",
      " 28  I agree to pay the amount through cheque       9240 non-null   object \n",
      " 29  A free copy of Mastering The Interview         9240 non-null   object \n",
      " 30  Last Notable Activity                          9240 non-null   object \n",
      " 31  Asymmetrique Activity Index Int                9240 non-null   int64  \n",
      " 32  Asymmetrique Profile Index Int                 9240 non-null   int64  \n",
      "dtypes: float64(4), int64(4), object(25)\n",
      "memory usage: 2.3+ MB\n"
     ]
    }
   ],
   "source": [
    "df_clean.info()"
   ]
  },
  {
   "cell_type": "code",
   "execution_count": 44,
   "id": "e152425e",
   "metadata": {},
   "outputs": [],
   "source": [
    "num_cols=[\"Asymmetrique Activity Score\",\"Asymmetrique Profile Score\", \"Page Views Per Visit\", \"Total Time Spent on Website\", \"TotalVisits\", \"Asymmetrique Activity Index Int\", \"Asymmetrique Profile Index Int\"] "
   ]
  },
  {
   "cell_type": "code",
   "execution_count": 45,
   "id": "d8ba5e7a",
   "metadata": {},
   "outputs": [
    {
     "data": {
      "text/plain": [
       "['Lead Origin',\n",
       " 'Lead Source',\n",
       " 'Do Not Email',\n",
       " 'Do Not Call',\n",
       " 'Converted',\n",
       " 'Last Activity',\n",
       " 'Country',\n",
       " 'Specialization',\n",
       " 'What is your current occupation',\n",
       " 'What matters most to you in choosing a course',\n",
       " 'Search',\n",
       " 'Magazine',\n",
       " 'Newspaper Article',\n",
       " 'X Education Forums',\n",
       " 'Newspaper',\n",
       " 'Digital Advertisement',\n",
       " 'Through Recommendations',\n",
       " 'Receive More Updates About Our Courses',\n",
       " 'Tags',\n",
       " 'Lead Quality',\n",
       " 'Update me on Supply Chain Content',\n",
       " 'Get updates on DM Content',\n",
       " 'City',\n",
       " 'I agree to pay the amount through cheque',\n",
       " 'A free copy of Mastering The Interview',\n",
       " 'Last Notable Activity']"
      ]
     },
     "execution_count": 45,
     "metadata": {},
     "output_type": "execute_result"
    }
   ],
   "source": [
    "cat_cols=['Lead Origin',\n",
    " 'Lead Source',\n",
    " 'Do Not Email',\n",
    " 'Do Not Call',\n",
    " 'Converted',\n",
    " 'Last Activity',\n",
    " 'Country',\n",
    " 'Specialization',\n",
    " 'What is your current occupation',\n",
    " 'What matters most to you in choosing a course',\n",
    " 'Search',\n",
    " 'Magazine',\n",
    " 'Newspaper Article',\n",
    " 'X Education Forums',\n",
    " 'Newspaper',\n",
    " 'Digital Advertisement',\n",
    " 'Through Recommendations',\n",
    " 'Receive More Updates About Our Courses',\n",
    " 'Tags',\n",
    " 'Lead Quality',\n",
    " 'Update me on Supply Chain Content',\n",
    " 'Get updates on DM Content',\n",
    " 'City',\n",
    " 'I agree to pay the amount through cheque',\n",
    " 'A free copy of Mastering The Interview',\n",
    " 'Last Notable Activity']\n",
    "\n",
    "cat_cols"
   ]
  },
  {
   "cell_type": "code",
   "execution_count": 46,
   "id": "d3bb2d10",
   "metadata": {},
   "outputs": [
    {
     "data": {
      "text/plain": [
       "(9240, 33)"
      ]
     },
     "execution_count": 46,
     "metadata": {},
     "output_type": "execute_result"
    }
   ],
   "source": [
    "df_clean.shape"
   ]
  },
  {
   "cell_type": "markdown",
   "id": "ff2a7180",
   "metadata": {},
   "source": [
    "#### Univariate Analysis"
   ]
  },
  {
   "cell_type": "code",
   "execution_count": 47,
   "id": "dbe17a2e",
   "metadata": {},
   "outputs": [
    {
     "data": {
      "image/png": "[encoded data removed]",
      "text/plain": [
       "<Figure size 432x288 with 1 Axes>"
      ]
     },
     "metadata": {
      "needs_background": "light"
     },
     "output_type": "display_data"
    },
    {
     "data": {
      "image/png": "[encoded data removed]",
      "text/plain": [
       "<Figure size 432x288 with 1 Axes>"
      ]
     },
     "metadata": {
      "needs_background": "light"
     },
     "output_type": "display_data"
    },
    {
     "data": {
      "image/png": "[encoded data removed]",
      "text/plain": [
       "<Figure size 432x288 with 1 Axes>"
      ]
     },
     "metadata": {
      "needs_background": "light"
     },
     "output_type": "display_data"
    },
    {
     "data": {
      "image/png": "[encoded data removed]",
      "text/plain": [
       "<Figure size 432x288 with 1 Axes>"
      ]
     },
     "metadata": {
      "needs_background": "light"
     },
     "output_type": "display_data"
    },
    {
     "data": {
      "image/png": "[encoded data removed]",
      "text/plain": [
       "<Figure size 432x288 with 1 Axes>"
      ]
     },
     "metadata": {
      "needs_background": "light"
     },
     "output_type": "display_data"
    },
    {
     "data": {
      "image/png": "[encoded data removed]",
      "text/plain": [
       "<Figure size 432x288 with 1 Axes>"
      ]
     },
     "metadata": {
      "needs_background": "light"
     },
     "output_type": "display_data"
    },
    {
     "data": {
      "image/png": "[encoded data removed]",
      "text/plain": [
       "<Figure size 432x288 with 1 Axes>"
      ]
     },
     "metadata": {
      "needs_background": "light"
     },
     "output_type": "display_data"
    }
   ],
   "source": [
    "for i in num_cols:\n",
    "    sns.histplot(x=df_clean[i])\n",
    "    plt.show()"
   ]
  },
  {
   "cell_type": "code",
   "execution_count": 48,
   "id": "7600ef39",
   "metadata": {},
   "outputs": [
    {
     "data": {
      "image/png": "[encoded data removed]",
      "text/plain": [
       "<Figure size 432x288 with 1 Axes>"
      ]
     },
     "metadata": {
      "needs_background": "light"
     },
     "output_type": "display_data"
    },
    {
     "data": {
      "image/png": "[encoded data removed]",
      "text/plain": [
       "<Figure size 432x288 with 1 Axes>"
      ]
     },
     "metadata": {
      "needs_background": "light"
     },
     "output_type": "display_data"
    },
    {
     "data": {
      "image/png": "[encoded data removed]",
      "text/plain": [
       "<Figure size 432x288 with 1 Axes>"
      ]
     },
     "metadata": {
      "needs_background": "light"
     },
     "output_type": "display_data"
    },
    {
     "data": {
      "image/png": "[encoded data removed]",
      "text/plain": [
       "<Figure size 432x288 with 1 Axes>"
      ]
     },
     "metadata": {
      "needs_background": "light"
     },
     "output_type": "display_data"
    },
    {
     "data": {
      "image/png": "[encoded data removed]",
      "text/plain": [
       "<Figure size 432x288 with 1 Axes>"
      ]
     },
     "metadata": {
      "needs_background": "light"
     },
     "output_type": "display_data"
    },
    {
     "data": {
      "image/png": "[encoded data removed]",
      "text/plain": [
       "<Figure size 432x288 with 1 Axes>"
      ]
     },
     "metadata": {
      "needs_background": "light"
     },
     "output_type": "display_data"
    },
    {
     "data": {
      "image/png": "[encoded data removed]",
      "text/plain": [
       "<Figure size 432x288 with 1 Axes>"
      ]
     },
     "metadata": {
      "needs_background": "light"
     },
     "output_type": "display_data"
    },
    {
     "data": {
      "image/png": "[encoded data removed]",
      "text/plain": [
       "<Figure size 432x288 with 1 Axes>"
      ]
     },
     "metadata": {
      "needs_background": "light"
     },
     "output_type": "display_data"
    },
    {
     "data": {
      "image/png": "[encoded data removed]",
      "text/plain": [
       "<Figure size 432x288 with 1 Axes>"
      ]
     },
     "metadata": {
      "needs_background": "light"
     },
     "output_type": "display_data"
    },
    {
     "data": {
      "image/png": "[encoded data removed]",
      "text/plain": [
       "<Figure size 432x288 with 1 Axes>"
      ]
     },
     "metadata": {
      "needs_background": "light"
     },
     "output_type": "display_data"
    },
    {
     "data": {
      "image/png": "[encoded data removed]",
      "text/plain": [
       "<Figure size 432x288 with 1 Axes>"
      ]
     },
     "metadata": {
      "needs_background": "light"
     },
     "output_type": "display_data"
    },
    {
     "data": {
      "image/png": "[encoded data removed]",
      "text/plain": [
       "<Figure size 432x288 with 1 Axes>"
      ]
     },
     "metadata": {
      "needs_background": "light"
     },
     "output_type": "display_data"
    },
    {
     "data": {
      "image/png": "[encoded data removed]",
      "text/plain": [
       "<Figure size 432x288 with 1 Axes>"
      ]
     },
     "metadata": {
      "needs_background": "light"
     },
     "output_type": "display_data"
    },
    {
     "data": {
      "image/png": "[encoded data removed]",
      "text/plain": [
       "<Figure size 432x288 with 1 Axes>"
      ]
     },
     "metadata": {
      "needs_background": "light"
     },
     "output_type": "display_data"
    },
    {
     "data": {
      "image/png": "[encoded data removed]",
      "text/plain": [
       "<Figure size 432x288 with 1 Axes>"
      ]
     },
     "metadata": {
      "needs_background": "light"
     },
     "output_type": "display_data"
    },
    {
     "data": {
      "image/png": "[encoded data removed]",
      "text/plain": [
       "<Figure size 432x288 with 1 Axes>"
      ]
     },
     "metadata": {
      "needs_background": "light"
     },
     "output_type": "display_data"
    },
    {
     "data": {
      "image/png": "[encoded data removed]",
      "text/plain": [
       "<Figure size 432x288 with 1 Axes>"
      ]
     },
     "metadata": {
      "needs_background": "light"
     },
     "output_type": "display_data"
    },
    {
     "data": {
      "image/png": "[encoded data removed]",
      "text/plain": [
       "<Figure size 432x288 with 1 Axes>"
      ]
     },
     "metadata": {
      "needs_background": "light"
     },
     "output_type": "display_data"
    },
    {
     "data": {
      "image/png": "[encoded data removed]",
      "text/plain": [
       "<Figure size 432x288 with 1 Axes>"
      ]
     },
     "metadata": {
      "needs_background": "light"
     },
     "output_type": "display_data"
    },
    {
     "data": {
      "image/png": "[encoded data removed]",
      "text/plain": [
       "<Figure size 432x288 with 1 Axes>"
      ]
     },
     "metadata": {
      "needs_background": "light"
     },
     "output_type": "display_data"
    },
    {
     "data": {
      "image/png": "[encoded data removed]",
      "text/plain": [
       "<Figure size 432x288 with 1 Axes>"
      ]
     },
     "metadata": {
      "needs_background": "light"
     },
     "output_type": "display_data"
    },
    {
     "data": {
      "image/png": "[encoded data removed]",
      "text/plain": [
       "<Figure size 432x288 with 1 Axes>"
      ]
     },
     "metadata": {
      "needs_background": "light"
     },
     "output_type": "display_data"
    },
    {
     "data": {
      "image/png": "[encoded data removed]",
      "text/plain": [
       "<Figure size 432x288 with 1 Axes>"
      ]
     },
     "metadata": {
      "needs_background": "light"
     },
     "output_type": "display_data"
    },
    {
     "data": {
      "image/png": "[encoded data removed]",
      "text/plain": [
       "<Figure size 432x288 with 1 Axes>"
      ]
     },
     "metadata": {
      "needs_background": "light"
     },
     "output_type": "display_data"
    },
    {
     "data": {
      "image/png": "[encoded data removed]",
      "text/plain": [
       "<Figure size 432x288 with 1 Axes>"
      ]
     },
     "metadata": {
      "needs_background": "light"
     },
     "output_type": "display_data"
    },
    {
     "data": {
      "image/png": "[encoded data removed]",
      "text/plain": [
       "<Figure size 432x288 with 1 Axes>"
      ]
     },
     "metadata": {
      "needs_background": "light"
     },
     "output_type": "display_data"
    }
   ],
   "source": [
    "for i in cat_cols:\n",
    "    sns.countplot(x=df_clean[i])\n",
    "    plt.show()"
   ]
  },
  {
   "cell_type": "code",
   "execution_count": 49,
   "id": "042a8fa8",
   "metadata": {},
   "outputs": [
    {
     "data": {
      "image/png": "[encoded data removed]",
      "text/plain": [
       "<Figure size 432x288 with 2 Axes>"
      ]
     },
     "metadata": {
      "needs_background": "light"
     },
     "output_type": "display_data"
    }
   ],
   "source": [
    "sns.heatmap(df_clean[num_cols].corr(), annot=True)\n",
    "plt.show()"
   ]
  },
  {
   "cell_type": "markdown",
   "id": "1bd2d786",
   "metadata": {},
   "source": [
    "#### Preprocess the data"
   ]
  },
  {
   "cell_type": "code",
   "execution_count": 50,
   "id": "5ad4d7d9",
   "metadata": {},
   "outputs": [],
   "source": [
    "#data =  df_clean\n",
    "# Encode categorical variables using one-hot encoding\n",
    "df_clean_dummies = pd.get_dummies(df_clean, columns = cat_cols, drop_first=True)"
   ]
  },
  {
   "cell_type": "code",
   "execution_count": 51,
   "id": "c55920f5",
   "metadata": {},
   "outputs": [
    {
     "data": {
      "text/html": [
       "<div>\n",
       "<style scoped>\n",
       "    .dataframe tbody tr th:only-of-type {\n",
       "        vertical-align: middle;\n",
       "    }\n",
       "\n",
       "    .dataframe tbody tr th {\n",
       "        vertical-align: top;\n",
       "    }\n",
       "\n",
       "    .dataframe thead th {\n",
       "        text-align: right;\n",
       "    }\n",
       "</style>\n",
       "<table border=\"1\" class=\"dataframe\">\n",
       "  <thead>\n",
       "    <tr style=\"text-align: right;\">\n",
       "      <th></th>\n",
       "      <th>TotalVisits</th>\n",
       "      <th>Total Time Spent on Website</th>\n",
       "      <th>Page Views Per Visit</th>\n",
       "      <th>Asymmetrique Activity Score</th>\n",
       "      <th>Asymmetrique Profile Score</th>\n",
       "      <th>Asymmetrique Activity Index Int</th>\n",
       "      <th>Asymmetrique Profile Index Int</th>\n",
       "      <th>Lead Origin_Landing Page Submission</th>\n",
       "      <th>Lead Origin_Lead Add Form</th>\n",
       "      <th>Lead Origin_Lead Import</th>\n",
       "      <th>...</th>\n",
       "      <th>Last Notable Activity_Form Submitted on Website</th>\n",
       "      <th>Last Notable Activity_Had a Phone Conversation</th>\n",
       "      <th>Last Notable Activity_Modified</th>\n",
       "      <th>Last Notable Activity_Olark Chat Conversation</th>\n",
       "      <th>Last Notable Activity_Page Visited on Website</th>\n",
       "      <th>Last Notable Activity_Resubscribed to emails</th>\n",
       "      <th>Last Notable Activity_SMS Sent</th>\n",
       "      <th>Last Notable Activity_Unreachable</th>\n",
       "      <th>Last Notable Activity_Unsubscribed</th>\n",
       "      <th>Last Notable Activity_View in browser link Clicked</th>\n",
       "    </tr>\n",
       "  </thead>\n",
       "  <tbody>\n",
       "    <tr>\n",
       "      <th>0</th>\n",
       "      <td>0.0</td>\n",
       "      <td>0</td>\n",
       "      <td>0.0</td>\n",
       "      <td>15.0</td>\n",
       "      <td>15.0</td>\n",
       "      <td>2</td>\n",
       "      <td>2</td>\n",
       "      <td>0</td>\n",
       "      <td>0</td>\n",
       "      <td>0</td>\n",
       "      <td>...</td>\n",
       "      <td>0</td>\n",
       "      <td>0</td>\n",
       "      <td>1</td>\n",
       "      <td>0</td>\n",
       "      <td>0</td>\n",
       "      <td>0</td>\n",
       "      <td>0</td>\n",
       "      <td>0</td>\n",
       "      <td>0</td>\n",
       "      <td>0</td>\n",
       "    </tr>\n",
       "    <tr>\n",
       "      <th>1</th>\n",
       "      <td>5.0</td>\n",
       "      <td>674</td>\n",
       "      <td>2.5</td>\n",
       "      <td>15.0</td>\n",
       "      <td>15.0</td>\n",
       "      <td>2</td>\n",
       "      <td>2</td>\n",
       "      <td>0</td>\n",
       "      <td>0</td>\n",
       "      <td>0</td>\n",
       "      <td>...</td>\n",
       "      <td>0</td>\n",
       "      <td>0</td>\n",
       "      <td>0</td>\n",
       "      <td>0</td>\n",
       "      <td>0</td>\n",
       "      <td>0</td>\n",
       "      <td>0</td>\n",
       "      <td>0</td>\n",
       "      <td>0</td>\n",
       "      <td>0</td>\n",
       "    </tr>\n",
       "    <tr>\n",
       "      <th>2</th>\n",
       "      <td>2.0</td>\n",
       "      <td>1532</td>\n",
       "      <td>2.0</td>\n",
       "      <td>14.0</td>\n",
       "      <td>20.0</td>\n",
       "      <td>2</td>\n",
       "      <td>1</td>\n",
       "      <td>1</td>\n",
       "      <td>0</td>\n",
       "      <td>0</td>\n",
       "      <td>...</td>\n",
       "      <td>0</td>\n",
       "      <td>0</td>\n",
       "      <td>0</td>\n",
       "      <td>0</td>\n",
       "      <td>0</td>\n",
       "      <td>0</td>\n",
       "      <td>0</td>\n",
       "      <td>0</td>\n",
       "      <td>0</td>\n",
       "      <td>0</td>\n",
       "    </tr>\n",
       "    <tr>\n",
       "      <th>3</th>\n",
       "      <td>1.0</td>\n",
       "      <td>305</td>\n",
       "      <td>1.0</td>\n",
       "      <td>13.0</td>\n",
       "      <td>17.0</td>\n",
       "      <td>2</td>\n",
       "      <td>1</td>\n",
       "      <td>1</td>\n",
       "      <td>0</td>\n",
       "      <td>0</td>\n",
       "      <td>...</td>\n",
       "      <td>0</td>\n",
       "      <td>0</td>\n",
       "      <td>1</td>\n",
       "      <td>0</td>\n",
       "      <td>0</td>\n",
       "      <td>0</td>\n",
       "      <td>0</td>\n",
       "      <td>0</td>\n",
       "      <td>0</td>\n",
       "      <td>0</td>\n",
       "    </tr>\n",
       "    <tr>\n",
       "      <th>4</th>\n",
       "      <td>2.0</td>\n",
       "      <td>1428</td>\n",
       "      <td>1.0</td>\n",
       "      <td>15.0</td>\n",
       "      <td>18.0</td>\n",
       "      <td>2</td>\n",
       "      <td>1</td>\n",
       "      <td>1</td>\n",
       "      <td>0</td>\n",
       "      <td>0</td>\n",
       "      <td>...</td>\n",
       "      <td>0</td>\n",
       "      <td>0</td>\n",
       "      <td>1</td>\n",
       "      <td>0</td>\n",
       "      <td>0</td>\n",
       "      <td>0</td>\n",
       "      <td>0</td>\n",
       "      <td>0</td>\n",
       "      <td>0</td>\n",
       "      <td>0</td>\n",
       "    </tr>\n",
       "  </tbody>\n",
       "</table>\n",
       "<p>5 rows × 167 columns</p>\n",
       "</div>"
      ],
      "text/plain": [
       "   TotalVisits  Total Time Spent on Website  Page Views Per Visit  \\\n",
       "0          0.0                            0                   0.0   \n",
       "1          5.0                          674                   2.5   \n",
       "2          2.0                         1532                   2.0   \n",
       "3          1.0                          305                   1.0   \n",
       "4          2.0                         1428                   1.0   \n",
       "\n",
       "   Asymmetrique Activity Score  Asymmetrique Profile Score  \\\n",
       "0                         15.0                        15.0   \n",
       "1                         15.0                        15.0   \n",
       "2                         14.0                        20.0   \n",
       "3                         13.0                        17.0   \n",
       "4                         15.0                        18.0   \n",
       "\n",
       "   Asymmetrique Activity Index Int  Asymmetrique Profile Index Int  \\\n",
       "0                                2                               2   \n",
       "1                                2                               2   \n",
       "2                                2                               1   \n",
       "3                                2                               1   \n",
       "4                                2                               1   \n",
       "\n",
       "   Lead Origin_Landing Page Submission  Lead Origin_Lead Add Form  \\\n",
       "0                                    0                          0   \n",
       "1                                    0                          0   \n",
       "2                                    1                          0   \n",
       "3                                    1                          0   \n",
       "4                                    1                          0   \n",
       "\n",
       "   Lead Origin_Lead Import  ...  \\\n",
       "0                        0  ...   \n",
       "1                        0  ...   \n",
       "2                        0  ...   \n",
       "3                        0  ...   \n",
       "4                        0  ...   \n",
       "\n",
       "   Last Notable Activity_Form Submitted on Website  \\\n",
       "0                                                0   \n",
       "1                                                0   \n",
       "2                                                0   \n",
       "3                                                0   \n",
       "4                                                0   \n",
       "\n",
       "   Last Notable Activity_Had a Phone Conversation  \\\n",
       "0                                               0   \n",
       "1                                               0   \n",
       "2                                               0   \n",
       "3                                               0   \n",
       "4                                               0   \n",
       "\n",
       "   Last Notable Activity_Modified  \\\n",
       "0                               1   \n",
       "1                               0   \n",
       "2                               0   \n",
       "3                               1   \n",
       "4                               1   \n",
       "\n",
       "   Last Notable Activity_Olark Chat Conversation  \\\n",
       "0                                              0   \n",
       "1                                              0   \n",
       "2                                              0   \n",
       "3                                              0   \n",
       "4                                              0   \n",
       "\n",
       "   Last Notable Activity_Page Visited on Website  \\\n",
       "0                                              0   \n",
       "1                                              0   \n",
       "2                                              0   \n",
       "3                                              0   \n",
       "4                                              0   \n",
       "\n",
       "   Last Notable Activity_Resubscribed to emails  \\\n",
       "0                                             0   \n",
       "1                                             0   \n",
       "2                                             0   \n",
       "3                                             0   \n",
       "4                                             0   \n",
       "\n",
       "   Last Notable Activity_SMS Sent  Last Notable Activity_Unreachable  \\\n",
       "0                               0                                  0   \n",
       "1                               0                                  0   \n",
       "2                               0                                  0   \n",
       "3                               0                                  0   \n",
       "4                               0                                  0   \n",
       "\n",
       "   Last Notable Activity_Unsubscribed  \\\n",
       "0                                   0   \n",
       "1                                   0   \n",
       "2                                   0   \n",
       "3                                   0   \n",
       "4                                   0   \n",
       "\n",
       "   Last Notable Activity_View in browser link Clicked  \n",
       "0                                                  0   \n",
       "1                                                  0   \n",
       "2                                                  0   \n",
       "3                                                  0   \n",
       "4                                                  0   \n",
       "\n",
       "[5 rows x 167 columns]"
      ]
     },
     "execution_count": 51,
     "metadata": {},
     "output_type": "execute_result"
    }
   ],
   "source": [
    "df_clean_dummies.head()"
   ]
  },
  {
   "cell_type": "code",
   "execution_count": 52,
   "id": "0bb39bcc",
   "metadata": {},
   "outputs": [
    {
     "data": {
      "text/plain": [
       "['TotalVisits',\n",
       " 'Total Time Spent on Website',\n",
       " 'Page Views Per Visit',\n",
       " 'Asymmetrique Activity Score',\n",
       " 'Asymmetrique Profile Score',\n",
       " 'Asymmetrique Activity Index Int',\n",
       " 'Asymmetrique Profile Index Int',\n",
       " 'Lead Origin_Landing Page Submission',\n",
       " 'Lead Origin_Lead Add Form',\n",
       " 'Lead Origin_Lead Import',\n",
       " 'Lead Origin_Quick Add Form',\n",
       " 'Lead Source_Direct Traffic',\n",
       " 'Lead Source_Facebook',\n",
       " 'Lead Source_Google',\n",
       " 'Lead Source_Live Chat',\n",
       " 'Lead Source_NC_EDM',\n",
       " 'Lead Source_Olark Chat',\n",
       " 'Lead Source_Organic Search',\n",
       " 'Lead Source_Pay per Click Ads',\n",
       " 'Lead Source_Press_Release',\n",
       " 'Lead Source_Reference',\n",
       " 'Lead Source_Referral Sites',\n",
       " 'Lead Source_Social Media',\n",
       " 'Lead Source_WeLearn',\n",
       " 'Lead Source_Welingak Website',\n",
       " 'Lead Source_bing',\n",
       " 'Lead Source_blog',\n",
       " 'Lead Source_google',\n",
       " 'Lead Source_testone',\n",
       " 'Lead Source_welearnblog_Home',\n",
       " 'Lead Source_youtubechannel',\n",
       " 'Do Not Email_Yes',\n",
       " 'Do Not Call_Yes',\n",
       " 'Converted_1',\n",
       " 'Last Activity_Converted to Lead',\n",
       " 'Last Activity_Email Bounced',\n",
       " 'Last Activity_Email Link Clicked',\n",
       " 'Last Activity_Email Marked Spam',\n",
       " 'Last Activity_Email Opened',\n",
       " 'Last Activity_Email Received',\n",
       " 'Last Activity_Form Submitted on Website',\n",
       " 'Last Activity_Had a Phone Conversation',\n",
       " 'Last Activity_Olark Chat Conversation',\n",
       " 'Last Activity_Page Visited on Website',\n",
       " 'Last Activity_Resubscribed to emails',\n",
       " 'Last Activity_SMS Sent',\n",
       " 'Last Activity_Unreachable',\n",
       " 'Last Activity_Unsubscribed',\n",
       " 'Last Activity_View in browser link Clicked',\n",
       " 'Last Activity_Visited Booth in Tradeshow',\n",
       " 'Country_Australia',\n",
       " 'Country_Bahrain',\n",
       " 'Country_Bangladesh',\n",
       " 'Country_Belgium',\n",
       " 'Country_Canada',\n",
       " 'Country_China',\n",
       " 'Country_Denmark',\n",
       " 'Country_France',\n",
       " 'Country_Germany',\n",
       " 'Country_Ghana',\n",
       " 'Country_Hong Kong',\n",
       " 'Country_India',\n",
       " 'Country_Indonesia',\n",
       " 'Country_Italy',\n",
       " 'Country_Kenya',\n",
       " 'Country_Kuwait',\n",
       " 'Country_Liberia',\n",
       " 'Country_Malaysia',\n",
       " 'Country_Netherlands',\n",
       " 'Country_Nigeria',\n",
       " 'Country_Oman',\n",
       " 'Country_Philippines',\n",
       " 'Country_Qatar',\n",
       " 'Country_Russia',\n",
       " 'Country_Saudi Arabia',\n",
       " 'Country_Singapore',\n",
       " 'Country_South Africa',\n",
       " 'Country_Sri Lanka',\n",
       " 'Country_Sweden',\n",
       " 'Country_Switzerland',\n",
       " 'Country_Tanzania',\n",
       " 'Country_Uganda',\n",
       " 'Country_United Arab Emirates',\n",
       " 'Country_United Kingdom',\n",
       " 'Country_United States',\n",
       " 'Country_Vietnam',\n",
       " 'Country_unknown',\n",
       " 'Specialization_Business Administration',\n",
       " 'Specialization_E-Business',\n",
       " 'Specialization_E-COMMERCE',\n",
       " 'Specialization_Finance Management',\n",
       " 'Specialization_Healthcare Management',\n",
       " 'Specialization_Hospitality Management',\n",
       " 'Specialization_Human Resource Management',\n",
       " 'Specialization_IT Projects Management',\n",
       " 'Specialization_International Business',\n",
       " 'Specialization_Marketing Management',\n",
       " 'Specialization_Media and Advertising',\n",
       " 'Specialization_Operations Management',\n",
       " 'Specialization_Retail Management',\n",
       " 'Specialization_Rural and Agribusiness',\n",
       " 'Specialization_Services Excellence',\n",
       " 'Specialization_Supply Chain Management',\n",
       " 'Specialization_Travel and Tourism',\n",
       " 'What is your current occupation_Housewife',\n",
       " 'What is your current occupation_Other',\n",
       " 'What is your current occupation_Student',\n",
       " 'What is your current occupation_Unemployed',\n",
       " 'What is your current occupation_Working Professional',\n",
       " 'What matters most to you in choosing a course_Flexibility & Convenience',\n",
       " 'What matters most to you in choosing a course_Other',\n",
       " 'Search_Yes',\n",
       " 'Newspaper Article_Yes',\n",
       " 'X Education Forums_Yes',\n",
       " 'Newspaper_Yes',\n",
       " 'Digital Advertisement_Yes',\n",
       " 'Through Recommendations_Yes',\n",
       " 'Tags_Busy',\n",
       " 'Tags_Closed by Horizzon',\n",
       " 'Tags_Diploma holder (Not Eligible)',\n",
       " 'Tags_Graduation in progress',\n",
       " 'Tags_In confusion whether part time or DLP',\n",
       " 'Tags_Interested  in full time MBA',\n",
       " 'Tags_Interested in Next batch',\n",
       " 'Tags_Interested in other courses',\n",
       " 'Tags_Lateral student',\n",
       " 'Tags_Lost to EINS',\n",
       " 'Tags_Lost to Others',\n",
       " 'Tags_Not doing further education',\n",
       " 'Tags_Recognition issue (DEC approval)',\n",
       " 'Tags_Ringing',\n",
       " 'Tags_Shall take in the next coming month',\n",
       " 'Tags_Still Thinking',\n",
       " 'Tags_University not recognized',\n",
       " 'Tags_Want to take admission but has financial problems',\n",
       " 'Tags_Will revert after reading the email',\n",
       " 'Tags_in touch with EINS',\n",
       " 'Tags_invalid number',\n",
       " 'Tags_number not provided',\n",
       " 'Tags_opp hangup',\n",
       " 'Tags_switched off',\n",
       " 'Tags_wrong number given',\n",
       " 'Lead Quality_Low in Relevance',\n",
       " 'Lead Quality_Might be',\n",
       " 'Lead Quality_Not Sure',\n",
       " 'Lead Quality_Worst',\n",
       " 'City_Other Cities',\n",
       " 'City_Other Cities of Maharashtra',\n",
       " 'City_Other Metro Cities',\n",
       " 'City_Thane & Outskirts',\n",
       " 'City_Tier II Cities',\n",
       " 'A free copy of Mastering The Interview_Yes',\n",
       " 'Last Notable Activity_Email Bounced',\n",
       " 'Last Notable Activity_Email Link Clicked',\n",
       " 'Last Notable Activity_Email Marked Spam',\n",
       " 'Last Notable Activity_Email Opened',\n",
       " 'Last Notable Activity_Email Received',\n",
       " 'Last Notable Activity_Form Submitted on Website',\n",
       " 'Last Notable Activity_Had a Phone Conversation',\n",
       " 'Last Notable Activity_Modified',\n",
       " 'Last Notable Activity_Olark Chat Conversation',\n",
       " 'Last Notable Activity_Page Visited on Website',\n",
       " 'Last Notable Activity_Resubscribed to emails',\n",
       " 'Last Notable Activity_SMS Sent',\n",
       " 'Last Notable Activity_Unreachable',\n",
       " 'Last Notable Activity_Unsubscribed',\n",
       " 'Last Notable Activity_View in browser link Clicked']"
      ]
     },
     "execution_count": 52,
     "metadata": {},
     "output_type": "execute_result"
    }
   ],
   "source": [
    "df_clean_dummies.columns.to_list()"
   ]
  },
  {
   "cell_type": "code",
   "execution_count": 53,
   "id": "ac6ac01f",
   "metadata": {},
   "outputs": [
    {
     "data": {
      "text/plain": [
       "(9240, 167)"
      ]
     },
     "execution_count": 53,
     "metadata": {},
     "output_type": "execute_result"
    }
   ],
   "source": [
    "df_clean_dummies.shape"
   ]
  },
  {
   "cell_type": "code",
   "execution_count": 54,
   "id": "102c8315",
   "metadata": {},
   "outputs": [
    {
     "data": {
      "text/plain": [
       "[0, 1]"
      ]
     },
     "execution_count": 54,
     "metadata": {},
     "output_type": "execute_result"
    }
   ],
   "source": [
    "df_clean_dummies['Converted_1'].unique().tolist()"
   ]
  },
  {
   "cell_type": "code",
   "execution_count": 55,
   "id": "594796ba",
   "metadata": {},
   "outputs": [],
   "source": [
    "X=df_clean_dummies.drop(\"Converted_1\",axis=1)\n",
    "Y=df_clean_dummies[\"Converted_1\"]"
   ]
  },
  {
   "cell_type": "code",
   "execution_count": 56,
   "id": "20d4d18f",
   "metadata": {},
   "outputs": [],
   "source": [
    "X_train, X_test, Y_train, Y_test=train_test_split(X,Y,test_size=0.2,random_state=100)"
   ]
  },
  {
   "cell_type": "code",
   "execution_count": 57,
   "id": "10f61764",
   "metadata": {},
   "outputs": [
    {
     "name": "stdout",
     "output_type": "stream",
     "text": [
      "Train X shape: (7392, 166)\n",
      "Test X shape: (1848, 166)\n",
      "Train Y shape: (7392,)\n",
      "Test Y shape: (1848,)\n"
     ]
    }
   ],
   "source": [
    "print(\"Train X shape:\", X_train.shape)\n",
    "print(\"Test X shape:\", X_test.shape)\n",
    "print(\"Train Y shape:\", Y_train.shape)\n",
    "print(\"Test Y shape:\", Y_test.shape)"
   ]
  },
  {
   "cell_type": "markdown",
   "id": "b2e67285",
   "metadata": {},
   "source": [
    "### Scaling "
   ]
  },
  {
   "cell_type": "code",
   "execution_count": 58,
   "id": "e438ddd2",
   "metadata": {},
   "outputs": [],
   "source": [
    "scalar = MinMaxScaler()"
   ]
  },
  {
   "cell_type": "code",
   "execution_count": 59,
   "id": "a7502705",
   "metadata": {},
   "outputs": [],
   "source": [
    "X_train_Scaled = scalar.fit_transform(X_train)\n",
    "X_test_Scaled = scalar.transform(X_test)"
   ]
  },
  {
   "cell_type": "code",
   "execution_count": 60,
   "id": "b08d216d",
   "metadata": {},
   "outputs": [],
   "source": [
    "X_test_Scaled = pd.DataFrame(X_test_Scaled,columns=X_test.columns)\n",
    "X_train_Scaled=pd.DataFrame(X_train_Scaled,columns=X_train.columns)"
   ]
  },
  {
   "cell_type": "code",
   "execution_count": 61,
   "id": "ab7497fa",
   "metadata": {},
   "outputs": [
    {
     "data": {
      "text/html": [
       "<div>\n",
       "<style scoped>\n",
       "    .dataframe tbody tr th:only-of-type {\n",
       "        vertical-align: middle;\n",
       "    }\n",
       "\n",
       "    .dataframe tbody tr th {\n",
       "        vertical-align: top;\n",
       "    }\n",
       "\n",
       "    .dataframe thead th {\n",
       "        text-align: right;\n",
       "    }\n",
       "</style>\n",
       "<table border=\"1\" class=\"dataframe\">\n",
       "  <thead>\n",
       "    <tr style=\"text-align: right;\">\n",
       "      <th></th>\n",
       "      <th>TotalVisits</th>\n",
       "      <th>Total Time Spent on Website</th>\n",
       "      <th>Page Views Per Visit</th>\n",
       "      <th>Asymmetrique Activity Score</th>\n",
       "      <th>Asymmetrique Profile Score</th>\n",
       "      <th>Asymmetrique Activity Index Int</th>\n",
       "      <th>Asymmetrique Profile Index Int</th>\n",
       "      <th>Lead Origin_Landing Page Submission</th>\n",
       "      <th>Lead Origin_Lead Add Form</th>\n",
       "      <th>Lead Origin_Lead Import</th>\n",
       "      <th>...</th>\n",
       "      <th>Last Notable Activity_Form Submitted on Website</th>\n",
       "      <th>Last Notable Activity_Had a Phone Conversation</th>\n",
       "      <th>Last Notable Activity_Modified</th>\n",
       "      <th>Last Notable Activity_Olark Chat Conversation</th>\n",
       "      <th>Last Notable Activity_Page Visited on Website</th>\n",
       "      <th>Last Notable Activity_Resubscribed to emails</th>\n",
       "      <th>Last Notable Activity_SMS Sent</th>\n",
       "      <th>Last Notable Activity_Unreachable</th>\n",
       "      <th>Last Notable Activity_Unsubscribed</th>\n",
       "      <th>Last Notable Activity_View in browser link Clicked</th>\n",
       "    </tr>\n",
       "  </thead>\n",
       "  <tbody>\n",
       "    <tr>\n",
       "      <th>0</th>\n",
       "      <td>0.000000</td>\n",
       "      <td>0.000000</td>\n",
       "      <td>0.000000</td>\n",
       "      <td>0.818182</td>\n",
       "      <td>0.444444</td>\n",
       "      <td>0.0</td>\n",
       "      <td>0.5</td>\n",
       "      <td>0.0</td>\n",
       "      <td>0.0</td>\n",
       "      <td>0.0</td>\n",
       "      <td>...</td>\n",
       "      <td>0.0</td>\n",
       "      <td>0.0</td>\n",
       "      <td>1.0</td>\n",
       "      <td>0.0</td>\n",
       "      <td>0.0</td>\n",
       "      <td>0.0</td>\n",
       "      <td>0.0</td>\n",
       "      <td>0.0</td>\n",
       "      <td>0.0</td>\n",
       "      <td>0.0</td>\n",
       "    </tr>\n",
       "    <tr>\n",
       "      <th>1</th>\n",
       "      <td>0.007968</td>\n",
       "      <td>0.060739</td>\n",
       "      <td>0.036364</td>\n",
       "      <td>0.636364</td>\n",
       "      <td>0.555556</td>\n",
       "      <td>0.5</td>\n",
       "      <td>0.5</td>\n",
       "      <td>1.0</td>\n",
       "      <td>0.0</td>\n",
       "      <td>0.0</td>\n",
       "      <td>...</td>\n",
       "      <td>0.0</td>\n",
       "      <td>0.0</td>\n",
       "      <td>0.0</td>\n",
       "      <td>0.0</td>\n",
       "      <td>0.0</td>\n",
       "      <td>0.0</td>\n",
       "      <td>1.0</td>\n",
       "      <td>0.0</td>\n",
       "      <td>0.0</td>\n",
       "      <td>0.0</td>\n",
       "    </tr>\n",
       "    <tr>\n",
       "      <th>2</th>\n",
       "      <td>0.007968</td>\n",
       "      <td>0.034771</td>\n",
       "      <td>0.036364</td>\n",
       "      <td>0.727273</td>\n",
       "      <td>0.555556</td>\n",
       "      <td>0.5</td>\n",
       "      <td>0.5</td>\n",
       "      <td>1.0</td>\n",
       "      <td>0.0</td>\n",
       "      <td>0.0</td>\n",
       "      <td>...</td>\n",
       "      <td>0.0</td>\n",
       "      <td>0.0</td>\n",
       "      <td>0.0</td>\n",
       "      <td>0.0</td>\n",
       "      <td>0.0</td>\n",
       "      <td>0.0</td>\n",
       "      <td>1.0</td>\n",
       "      <td>0.0</td>\n",
       "      <td>0.0</td>\n",
       "      <td>0.0</td>\n",
       "    </tr>\n",
       "    <tr>\n",
       "      <th>3</th>\n",
       "      <td>0.015936</td>\n",
       "      <td>0.694982</td>\n",
       "      <td>0.072727</td>\n",
       "      <td>0.636364</td>\n",
       "      <td>0.555556</td>\n",
       "      <td>0.5</td>\n",
       "      <td>0.5</td>\n",
       "      <td>1.0</td>\n",
       "      <td>0.0</td>\n",
       "      <td>0.0</td>\n",
       "      <td>...</td>\n",
       "      <td>0.0</td>\n",
       "      <td>0.0</td>\n",
       "      <td>0.0</td>\n",
       "      <td>0.0</td>\n",
       "      <td>0.0</td>\n",
       "      <td>0.0</td>\n",
       "      <td>1.0</td>\n",
       "      <td>0.0</td>\n",
       "      <td>0.0</td>\n",
       "      <td>0.0</td>\n",
       "    </tr>\n",
       "    <tr>\n",
       "      <th>4</th>\n",
       "      <td>0.000000</td>\n",
       "      <td>0.000000</td>\n",
       "      <td>0.000000</td>\n",
       "      <td>0.727273</td>\n",
       "      <td>0.444444</td>\n",
       "      <td>0.5</td>\n",
       "      <td>0.5</td>\n",
       "      <td>0.0</td>\n",
       "      <td>0.0</td>\n",
       "      <td>0.0</td>\n",
       "      <td>...</td>\n",
       "      <td>0.0</td>\n",
       "      <td>0.0</td>\n",
       "      <td>1.0</td>\n",
       "      <td>0.0</td>\n",
       "      <td>0.0</td>\n",
       "      <td>0.0</td>\n",
       "      <td>0.0</td>\n",
       "      <td>0.0</td>\n",
       "      <td>0.0</td>\n",
       "      <td>0.0</td>\n",
       "    </tr>\n",
       "  </tbody>\n",
       "</table>\n",
       "<p>5 rows × 166 columns</p>\n",
       "</div>"
      ],
      "text/plain": [
       "   TotalVisits  Total Time Spent on Website  Page Views Per Visit  \\\n",
       "0     0.000000                     0.000000              0.000000   \n",
       "1     0.007968                     0.060739              0.036364   \n",
       "2     0.007968                     0.034771              0.036364   \n",
       "3     0.015936                     0.694982              0.072727   \n",
       "4     0.000000                     0.000000              0.000000   \n",
       "\n",
       "   Asymmetrique Activity Score  Asymmetrique Profile Score  \\\n",
       "0                     0.818182                    0.444444   \n",
       "1                     0.636364                    0.555556   \n",
       "2                     0.727273                    0.555556   \n",
       "3                     0.636364                    0.555556   \n",
       "4                     0.727273                    0.444444   \n",
       "\n",
       "   Asymmetrique Activity Index Int  Asymmetrique Profile Index Int  \\\n",
       "0                              0.0                             0.5   \n",
       "1                              0.5                             0.5   \n",
       "2                              0.5                             0.5   \n",
       "3                              0.5                             0.5   \n",
       "4                              0.5                             0.5   \n",
       "\n",
       "   Lead Origin_Landing Page Submission  Lead Origin_Lead Add Form  \\\n",
       "0                                  0.0                        0.0   \n",
       "1                                  1.0                        0.0   \n",
       "2                                  1.0                        0.0   \n",
       "3                                  1.0                        0.0   \n",
       "4                                  0.0                        0.0   \n",
       "\n",
       "   Lead Origin_Lead Import  ...  \\\n",
       "0                      0.0  ...   \n",
       "1                      0.0  ...   \n",
       "2                      0.0  ...   \n",
       "3                      0.0  ...   \n",
       "4                      0.0  ...   \n",
       "\n",
       "   Last Notable Activity_Form Submitted on Website  \\\n",
       "0                                              0.0   \n",
       "1                                              0.0   \n",
       "2                                              0.0   \n",
       "3                                              0.0   \n",
       "4                                              0.0   \n",
       "\n",
       "   Last Notable Activity_Had a Phone Conversation  \\\n",
       "0                                             0.0   \n",
       "1                                             0.0   \n",
       "2                                             0.0   \n",
       "3                                             0.0   \n",
       "4                                             0.0   \n",
       "\n",
       "   Last Notable Activity_Modified  \\\n",
       "0                             1.0   \n",
       "1                             0.0   \n",
       "2                             0.0   \n",
       "3                             0.0   \n",
       "4                             1.0   \n",
       "\n",
       "   Last Notable Activity_Olark Chat Conversation  \\\n",
       "0                                            0.0   \n",
       "1                                            0.0   \n",
       "2                                            0.0   \n",
       "3                                            0.0   \n",
       "4                                            0.0   \n",
       "\n",
       "   Last Notable Activity_Page Visited on Website  \\\n",
       "0                                            0.0   \n",
       "1                                            0.0   \n",
       "2                                            0.0   \n",
       "3                                            0.0   \n",
       "4                                            0.0   \n",
       "\n",
       "   Last Notable Activity_Resubscribed to emails  \\\n",
       "0                                           0.0   \n",
       "1                                           0.0   \n",
       "2                                           0.0   \n",
       "3                                           0.0   \n",
       "4                                           0.0   \n",
       "\n",
       "   Last Notable Activity_SMS Sent  Last Notable Activity_Unreachable  \\\n",
       "0                             0.0                                0.0   \n",
       "1                             1.0                                0.0   \n",
       "2                             1.0                                0.0   \n",
       "3                             1.0                                0.0   \n",
       "4                             0.0                                0.0   \n",
       "\n",
       "   Last Notable Activity_Unsubscribed  \\\n",
       "0                                 0.0   \n",
       "1                                 0.0   \n",
       "2                                 0.0   \n",
       "3                                 0.0   \n",
       "4                                 0.0   \n",
       "\n",
       "   Last Notable Activity_View in browser link Clicked  \n",
       "0                                                0.0   \n",
       "1                                                0.0   \n",
       "2                                                0.0   \n",
       "3                                                0.0   \n",
       "4                                                0.0   \n",
       "\n",
       "[5 rows x 166 columns]"
      ]
     },
     "execution_count": 61,
     "metadata": {},
     "output_type": "execute_result"
    }
   ],
   "source": [
    "X_train_Scaled.head()"
   ]
  },
  {
   "cell_type": "markdown",
   "id": "465b1270",
   "metadata": {},
   "source": [
    "### Feature Selection "
   ]
  },
  {
   "cell_type": "code",
   "execution_count": 62,
   "id": "a1f5d0a0",
   "metadata": {},
   "outputs": [
    {
     "data": {
      "text/plain": [
       "array([False,  True,  True,  True, False, False, False, False,  True,\n",
       "       False, False, False, False, False, False, False, False, False,\n",
       "       False, False, False, False, False, False,  True, False, False,\n",
       "       False, False, False, False, False, False, False, False, False,\n",
       "       False, False, False, False, False, False, False, False,  True,\n",
       "       False, False, False, False, False, False, False, False, False,\n",
       "       False, False, False, False, False, False, False, False, False,\n",
       "       False, False, False, False, False, False, False, False, False,\n",
       "       False, False, False, False, False, False, False, False, False,\n",
       "       False, False, False, False, False, False, False, False, False,\n",
       "       False, False, False, False, False, False, False, False, False,\n",
       "       False, False, False, False, False, False, False, False,  True,\n",
       "       False, False, False, False, False, False, False, False,  True,\n",
       "        True, False, False, False, False, False, False,  True,  True,\n",
       "       False, False, False,  True, False, False, False, False,  True,\n",
       "        True, False, False, False,  True, False, False,  True,  True,\n",
       "        True, False, False, False, False, False, False, False, False,\n",
       "       False, False, False, False, False,  True,  True, False, False,\n",
       "       False, False, False, False])"
      ]
     },
     "execution_count": 62,
     "metadata": {},
     "output_type": "execute_result"
    }
   ],
   "source": [
    "estimator = LogisticRegression()\n",
    "selector = RFE(estimator,n_features_to_select=20)# n_features_to_select generally ranges in 8 to 20\n",
    "selector.fit(X_train_Scaled,Y_train)\n",
    "selector.support_"
   ]
  },
  {
   "cell_type": "code",
   "execution_count": 63,
   "id": "3a7d234f",
   "metadata": {},
   "outputs": [],
   "source": [
    "cols_to_keep=X_train_Scaled.columns[selector.support_]"
   ]
  },
  {
   "cell_type": "code",
   "execution_count": 64,
   "id": "e903fc5d",
   "metadata": {},
   "outputs": [
    {
     "data": {
      "text/plain": [
       "Index(['Total Time Spent on Website', 'Page Views Per Visit',\n",
       "       'Asymmetrique Activity Score', 'Lead Origin_Lead Add Form',\n",
       "       'Lead Source_Welingak Website', 'Last Activity_SMS Sent',\n",
       "       'What is your current occupation_Working Professional', 'Tags_Busy',\n",
       "       'Tags_Closed by Horizzon', 'Tags_Lateral student', 'Tags_Lost to EINS',\n",
       "       'Tags_Ringing', 'Tags_Will revert after reading the email',\n",
       "       'Tags_in touch with EINS', 'Tags_switched off', 'Lead Quality_Might be',\n",
       "       'Lead Quality_Not Sure', 'Lead Quality_Worst',\n",
       "       'Last Notable Activity_Modified',\n",
       "       'Last Notable Activity_Olark Chat Conversation'],\n",
       "      dtype='object')"
      ]
     },
     "execution_count": 64,
     "metadata": {},
     "output_type": "execute_result"
    }
   ],
   "source": [
    "cols_to_keep"
   ]
  },
  {
   "cell_type": "code",
   "execution_count": 65,
   "id": "f08863d4",
   "metadata": {},
   "outputs": [],
   "source": [
    "X_train=X_train_Scaled[cols_to_keep]\n",
    "X_test = X_test_Scaled[cols_to_keep]"
   ]
  },
  {
   "cell_type": "code",
   "execution_count": 66,
   "id": "d3cfe620",
   "metadata": {},
   "outputs": [
    {
     "name": "stdout",
     "output_type": "stream",
     "text": [
      "Train X shape: (7392, 20)\n",
      "Test X shape: (1848, 20)\n",
      "Scaled Train X shape: (7392, 166)\n",
      "Scaled Test X shape: (1848, 166)\n",
      "Train Y shape: (7392,)\n",
      "Test Y shape: (1848,)\n"
     ]
    }
   ],
   "source": [
    "print(\"Train X shape:\", X_train.shape)\n",
    "print(\"Test X shape:\", X_test.shape)\n",
    "print(\"Scaled Train X shape:\", X_train_Scaled.shape)\n",
    "print(\"Scaled Test X shape:\", X_test_Scaled.shape)\n",
    "print(\"Train Y shape:\", Y_train.shape)\n",
    "print(\"Test Y shape:\", Y_test.shape)"
   ]
  },
  {
   "cell_type": "markdown",
   "id": "7c03233b",
   "metadata": {},
   "source": [
    "#### Model "
   ]
  },
  {
   "cell_type": "code",
   "execution_count": 67,
   "id": "a0541aaf",
   "metadata": {},
   "outputs": [],
   "source": [
    "X_train_sm = sm.add_constant(X_train,has_constant=\"add\")\n",
    "X_test_sm = sm.add_constant(X_test,has_constant=\"add\")"
   ]
  },
  {
   "cell_type": "code",
   "execution_count": 68,
   "id": "9d03e5fa",
   "metadata": {},
   "outputs": [
    {
     "data": {
      "text/html": [
       "<table class=\"simpletable\">\n",
       "<caption>Generalized Linear Model Regression Results</caption>\n",
       "<tr>\n",
       "  <th>Dep. Variable:</th>           <td>y</td>        <th>  No. Observations:  </th>  <td>  7392</td> \n",
       "</tr>\n",
       "<tr>\n",
       "  <th>Model:</th>                  <td>GLM</td>       <th>  Df Residuals:      </th>  <td>  7371</td> \n",
       "</tr>\n",
       "<tr>\n",
       "  <th>Model Family:</th>        <td>Binomial</td>     <th>  Df Model:          </th>  <td>    20</td> \n",
       "</tr>\n",
       "<tr>\n",
       "  <th>Link Function:</th>         <td>logit</td>      <th>  Scale:             </th> <td>  1.0000</td>\n",
       "</tr>\n",
       "<tr>\n",
       "  <th>Method:</th>                <td>IRLS</td>       <th>  Log-Likelihood:    </th> <td> -1695.1</td>\n",
       "</tr>\n",
       "<tr>\n",
       "  <th>Date:</th>            <td>Sun, 16 Feb 2025</td> <th>  Deviance:          </th> <td>  3390.2</td>\n",
       "</tr>\n",
       "<tr>\n",
       "  <th>Time:</th>                <td>17:05:35</td>     <th>  Pearson chi2:      </th> <td>1.89e+04</td>\n",
       "</tr>\n",
       "<tr>\n",
       "  <th>No. Iterations:</th>         <td>20</td>        <th>                     </th>     <td> </td>   \n",
       "</tr>\n",
       "<tr>\n",
       "  <th>Covariance Type:</th>     <td>nonrobust</td>    <th>                     </th>     <td> </td>   \n",
       "</tr>\n",
       "</table>\n",
       "<table class=\"simpletable\">\n",
       "<tr>\n",
       "                            <td></td>                              <th>coef</th>     <th>std err</th>      <th>z</th>      <th>P>|z|</th>  <th>[0.025</th>    <th>0.975]</th>  \n",
       "</tr>\n",
       "<tr>\n",
       "  <th>const</th>                                                <td>   -6.1991</td> <td>    0.453</td> <td>  -13.696</td> <td> 0.000</td> <td>   -7.086</td> <td>   -5.312</td>\n",
       "</tr>\n",
       "<tr>\n",
       "  <th>Total Time Spent on Website</th>                          <td>    4.3934</td> <td>    0.205</td> <td>   21.456</td> <td> 0.000</td> <td>    3.992</td> <td>    4.795</td>\n",
       "</tr>\n",
       "<tr>\n",
       "  <th>Page Views Per Visit</th>                                 <td>   -4.2462</td> <td>    1.286</td> <td>   -3.302</td> <td> 0.001</td> <td>   -6.767</td> <td>   -1.726</td>\n",
       "</tr>\n",
       "<tr>\n",
       "  <th>Asymmetrique Activity Score</th>                          <td>    6.0167</td> <td>    0.529</td> <td>   11.383</td> <td> 0.000</td> <td>    4.981</td> <td>    7.053</td>\n",
       "</tr>\n",
       "<tr>\n",
       "  <th>Lead Origin_Lead Add Form</th>                            <td>    2.3040</td> <td>    0.270</td> <td>    8.548</td> <td> 0.000</td> <td>    1.776</td> <td>    2.832</td>\n",
       "</tr>\n",
       "<tr>\n",
       "  <th>Lead Source_Welingak Website</th>                         <td>    2.4872</td> <td>    0.782</td> <td>    3.179</td> <td> 0.001</td> <td>    0.954</td> <td>    4.021</td>\n",
       "</tr>\n",
       "<tr>\n",
       "  <th>Last Activity_SMS Sent</th>                               <td>    2.1836</td> <td>    0.100</td> <td>   21.843</td> <td> 0.000</td> <td>    1.988</td> <td>    2.379</td>\n",
       "</tr>\n",
       "<tr>\n",
       "  <th>What is your current occupation_Working Professional</th> <td>    2.4456</td> <td>    0.247</td> <td>    9.900</td> <td> 0.000</td> <td>    1.961</td> <td>    2.930</td>\n",
       "</tr>\n",
       "<tr>\n",
       "  <th>Tags_Busy</th>                                            <td>    2.6330</td> <td>    0.329</td> <td>    7.993</td> <td> 0.000</td> <td>    1.987</td> <td>    3.279</td>\n",
       "</tr>\n",
       "<tr>\n",
       "  <th>Tags_Closed by Horizzon</th>                              <td>    9.8378</td> <td>    1.068</td> <td>    9.210</td> <td> 0.000</td> <td>    7.744</td> <td>   11.931</td>\n",
       "</tr>\n",
       "<tr>\n",
       "  <th>Tags_Lateral student</th>                                 <td>   24.7218</td> <td> 1.52e+04</td> <td>    0.002</td> <td> 0.999</td> <td>-2.97e+04</td> <td> 2.98e+04</td>\n",
       "</tr>\n",
       "<tr>\n",
       "  <th>Tags_Lost to EINS</th>                                    <td>    9.6643</td> <td>    0.669</td> <td>   14.437</td> <td> 0.000</td> <td>    8.352</td> <td>   10.976</td>\n",
       "</tr>\n",
       "<tr>\n",
       "  <th>Tags_Ringing</th>                                         <td>   -1.0420</td> <td>    0.324</td> <td>   -3.217</td> <td> 0.001</td> <td>   -1.677</td> <td>   -0.407</td>\n",
       "</tr>\n",
       "<tr>\n",
       "  <th>Tags_Will revert after reading the email</th>             <td>    4.1322</td> <td>    0.256</td> <td>   16.140</td> <td> 0.000</td> <td>    3.630</td> <td>    4.634</td>\n",
       "</tr>\n",
       "<tr>\n",
       "  <th>Tags_in touch with EINS</th>                              <td>    3.6435</td> <td>    1.032</td> <td>    3.531</td> <td> 0.000</td> <td>    1.621</td> <td>    5.666</td>\n",
       "</tr>\n",
       "<tr>\n",
       "  <th>Tags_switched off</th>                                    <td>   -1.2061</td> <td>    0.582</td> <td>   -2.072</td> <td> 0.038</td> <td>   -2.347</td> <td>   -0.065</td>\n",
       "</tr>\n",
       "<tr>\n",
       "  <th>Lead Quality_Might be</th>                                <td>   -3.4235</td> <td>    0.204</td> <td>  -16.755</td> <td> 0.000</td> <td>   -3.824</td> <td>   -3.023</td>\n",
       "</tr>\n",
       "<tr>\n",
       "  <th>Lead Quality_Not Sure</th>                                <td>   -1.8466</td> <td>    0.276</td> <td>   -6.683</td> <td> 0.000</td> <td>   -2.388</td> <td>   -1.305</td>\n",
       "</tr>\n",
       "<tr>\n",
       "  <th>Lead Quality_Worst</th>                                   <td>   -3.8543</td> <td>    0.696</td> <td>   -5.542</td> <td> 0.000</td> <td>   -5.218</td> <td>   -2.491</td>\n",
       "</tr>\n",
       "<tr>\n",
       "  <th>Last Notable Activity_Modified</th>                       <td>   -1.8516</td> <td>    0.103</td> <td>  -17.947</td> <td> 0.000</td> <td>   -2.054</td> <td>   -1.649</td>\n",
       "</tr>\n",
       "<tr>\n",
       "  <th>Last Notable Activity_Olark Chat Conversation</th>        <td>   -1.9912</td> <td>    0.352</td> <td>   -5.654</td> <td> 0.000</td> <td>   -2.681</td> <td>   -1.301</td>\n",
       "</tr>\n",
       "</table>"
      ],
      "text/plain": [
       "<class 'statsmodels.iolib.summary.Summary'>\n",
       "\"\"\"\n",
       "                 Generalized Linear Model Regression Results                  \n",
       "==============================================================================\n",
       "Dep. Variable:                      y   No. Observations:                 7392\n",
       "Model:                            GLM   Df Residuals:                     7371\n",
       "Model Family:                Binomial   Df Model:                           20\n",
       "Link Function:                  logit   Scale:                          1.0000\n",
       "Method:                          IRLS   Log-Likelihood:                -1695.1\n",
       "Date:                Sun, 16 Feb 2025   Deviance:                       3390.2\n",
       "Time:                        17:05:35   Pearson chi2:                 1.89e+04\n",
       "No. Iterations:                    20                                         \n",
       "Covariance Type:            nonrobust                                         \n",
       "========================================================================================================================\n",
       "                                                           coef    std err          z      P>|z|      [0.025      0.975]\n",
       "------------------------------------------------------------------------------------------------------------------------\n",
       "const                                                   -6.1991      0.453    -13.696      0.000      -7.086      -5.312\n",
       "Total Time Spent on Website                              4.3934      0.205     21.456      0.000       3.992       4.795\n",
       "Page Views Per Visit                                    -4.2462      1.286     -3.302      0.001      -6.767      -1.726\n",
       "Asymmetrique Activity Score                              6.0167      0.529     11.383      0.000       4.981       7.053\n",
       "Lead Origin_Lead Add Form                                2.3040      0.270      8.548      0.000       1.776       2.832\n",
       "Lead Source_Welingak Website                             2.4872      0.782      3.179      0.001       0.954       4.021\n",
       "Last Activity_SMS Sent                                   2.1836      0.100     21.843      0.000       1.988       2.379\n",
       "What is your current occupation_Working Professional     2.4456      0.247      9.900      0.000       1.961       2.930\n",
       "Tags_Busy                                                2.6330      0.329      7.993      0.000       1.987       3.279\n",
       "Tags_Closed by Horizzon                                  9.8378      1.068      9.210      0.000       7.744      11.931\n",
       "Tags_Lateral student                                    24.7218   1.52e+04      0.002      0.999   -2.97e+04    2.98e+04\n",
       "Tags_Lost to EINS                                        9.6643      0.669     14.437      0.000       8.352      10.976\n",
       "Tags_Ringing                                            -1.0420      0.324     -3.217      0.001      -1.677      -0.407\n",
       "Tags_Will revert after reading the email                 4.1322      0.256     16.140      0.000       3.630       4.634\n",
       "Tags_in touch with EINS                                  3.6435      1.032      3.531      0.000       1.621       5.666\n",
       "Tags_switched off                                       -1.2061      0.582     -2.072      0.038      -2.347      -0.065\n",
       "Lead Quality_Might be                                   -3.4235      0.204    -16.755      0.000      -3.824      -3.023\n",
       "Lead Quality_Not Sure                                   -1.8466      0.276     -6.683      0.000      -2.388      -1.305\n",
       "Lead Quality_Worst                                      -3.8543      0.696     -5.542      0.000      -5.218      -2.491\n",
       "Last Notable Activity_Modified                          -1.8516      0.103    -17.947      0.000      -2.054      -1.649\n",
       "Last Notable Activity_Olark Chat Conversation           -1.9912      0.352     -5.654      0.000      -2.681      -1.301\n",
       "========================================================================================================================\n",
       "\"\"\""
      ]
     },
     "execution_count": 68,
     "metadata": {},
     "output_type": "execute_result"
    }
   ],
   "source": [
    "model1 = sm.GLM(np.array(Y_train), X_train_sm, family=sm.families.Binomial())\n",
    "#Binomial --> Binary Classification\n",
    "result1 = model1.fit()\n",
    "result1.summary()"
   ]
  },
  {
   "cell_type": "code",
   "execution_count": 69,
   "id": "4c978b27",
   "metadata": {},
   "outputs": [
    {
     "data": {
      "text/html": [
       "<table class=\"simpletable\">\n",
       "<caption>Generalized Linear Model Regression Results</caption>\n",
       "<tr>\n",
       "  <th>Dep. Variable:</th>           <td>y</td>        <th>  No. Observations:  </th>  <td>  7392</td> \n",
       "</tr>\n",
       "<tr>\n",
       "  <th>Model:</th>                  <td>GLM</td>       <th>  Df Residuals:      </th>  <td>  7371</td> \n",
       "</tr>\n",
       "<tr>\n",
       "  <th>Model Family:</th>        <td>Binomial</td>     <th>  Df Model:          </th>  <td>    20</td> \n",
       "</tr>\n",
       "<tr>\n",
       "  <th>Link Function:</th>         <td>logit</td>      <th>  Scale:             </th> <td>  1.0000</td>\n",
       "</tr>\n",
       "<tr>\n",
       "  <th>Method:</th>                <td>IRLS</td>       <th>  Log-Likelihood:    </th> <td> -1695.1</td>\n",
       "</tr>\n",
       "<tr>\n",
       "  <th>Date:</th>            <td>Sun, 16 Feb 2025</td> <th>  Deviance:          </th> <td>  3390.2</td>\n",
       "</tr>\n",
       "<tr>\n",
       "  <th>Time:</th>                <td>17:05:35</td>     <th>  Pearson chi2:      </th> <td>1.89e+04</td>\n",
       "</tr>\n",
       "<tr>\n",
       "  <th>No. Iterations:</th>         <td>20</td>        <th>                     </th>     <td> </td>   \n",
       "</tr>\n",
       "<tr>\n",
       "  <th>Covariance Type:</th>     <td>nonrobust</td>    <th>                     </th>     <td> </td>   \n",
       "</tr>\n",
       "</table>\n",
       "<table class=\"simpletable\">\n",
       "<tr>\n",
       "                            <td></td>                              <th>coef</th>     <th>std err</th>      <th>z</th>      <th>P>|z|</th>  <th>[0.025</th>    <th>0.975]</th>  \n",
       "</tr>\n",
       "<tr>\n",
       "  <th>const</th>                                                <td>   -6.1991</td> <td>    0.453</td> <td>  -13.696</td> <td> 0.000</td> <td>   -7.086</td> <td>   -5.312</td>\n",
       "</tr>\n",
       "<tr>\n",
       "  <th>Total Time Spent on Website</th>                          <td>    4.3934</td> <td>    0.205</td> <td>   21.456</td> <td> 0.000</td> <td>    3.992</td> <td>    4.795</td>\n",
       "</tr>\n",
       "<tr>\n",
       "  <th>Page Views Per Visit</th>                                 <td>   -4.2462</td> <td>    1.286</td> <td>   -3.302</td> <td> 0.001</td> <td>   -6.767</td> <td>   -1.726</td>\n",
       "</tr>\n",
       "<tr>\n",
       "  <th>Asymmetrique Activity Score</th>                          <td>    6.0167</td> <td>    0.529</td> <td>   11.383</td> <td> 0.000</td> <td>    4.981</td> <td>    7.053</td>\n",
       "</tr>\n",
       "<tr>\n",
       "  <th>Lead Origin_Lead Add Form</th>                            <td>    2.3040</td> <td>    0.270</td> <td>    8.548</td> <td> 0.000</td> <td>    1.776</td> <td>    2.832</td>\n",
       "</tr>\n",
       "<tr>\n",
       "  <th>Lead Source_Welingak Website</th>                         <td>    2.4872</td> <td>    0.782</td> <td>    3.179</td> <td> 0.001</td> <td>    0.954</td> <td>    4.021</td>\n",
       "</tr>\n",
       "<tr>\n",
       "  <th>Last Activity_SMS Sent</th>                               <td>    2.1836</td> <td>    0.100</td> <td>   21.843</td> <td> 0.000</td> <td>    1.988</td> <td>    2.379</td>\n",
       "</tr>\n",
       "<tr>\n",
       "  <th>What is your current occupation_Working Professional</th> <td>    2.4456</td> <td>    0.247</td> <td>    9.900</td> <td> 0.000</td> <td>    1.961</td> <td>    2.930</td>\n",
       "</tr>\n",
       "<tr>\n",
       "  <th>Tags_Busy</th>                                            <td>    2.6330</td> <td>    0.329</td> <td>    7.993</td> <td> 0.000</td> <td>    1.987</td> <td>    3.279</td>\n",
       "</tr>\n",
       "<tr>\n",
       "  <th>Tags_Closed by Horizzon</th>                              <td>    9.8378</td> <td>    1.068</td> <td>    9.210</td> <td> 0.000</td> <td>    7.744</td> <td>   11.931</td>\n",
       "</tr>\n",
       "<tr>\n",
       "  <th>Tags_Lateral student</th>                                 <td>   24.7218</td> <td> 1.52e+04</td> <td>    0.002</td> <td> 0.999</td> <td>-2.97e+04</td> <td> 2.98e+04</td>\n",
       "</tr>\n",
       "<tr>\n",
       "  <th>Tags_Lost to EINS</th>                                    <td>    9.6643</td> <td>    0.669</td> <td>   14.437</td> <td> 0.000</td> <td>    8.352</td> <td>   10.976</td>\n",
       "</tr>\n",
       "<tr>\n",
       "  <th>Tags_Ringing</th>                                         <td>   -1.0420</td> <td>    0.324</td> <td>   -3.217</td> <td> 0.001</td> <td>   -1.677</td> <td>   -0.407</td>\n",
       "</tr>\n",
       "<tr>\n",
       "  <th>Tags_Will revert after reading the email</th>             <td>    4.1322</td> <td>    0.256</td> <td>   16.140</td> <td> 0.000</td> <td>    3.630</td> <td>    4.634</td>\n",
       "</tr>\n",
       "<tr>\n",
       "  <th>Tags_in touch with EINS</th>                              <td>    3.6435</td> <td>    1.032</td> <td>    3.531</td> <td> 0.000</td> <td>    1.621</td> <td>    5.666</td>\n",
       "</tr>\n",
       "<tr>\n",
       "  <th>Tags_switched off</th>                                    <td>   -1.2061</td> <td>    0.582</td> <td>   -2.072</td> <td> 0.038</td> <td>   -2.347</td> <td>   -0.065</td>\n",
       "</tr>\n",
       "<tr>\n",
       "  <th>Lead Quality_Might be</th>                                <td>   -3.4235</td> <td>    0.204</td> <td>  -16.755</td> <td> 0.000</td> <td>   -3.824</td> <td>   -3.023</td>\n",
       "</tr>\n",
       "<tr>\n",
       "  <th>Lead Quality_Not Sure</th>                                <td>   -1.8466</td> <td>    0.276</td> <td>   -6.683</td> <td> 0.000</td> <td>   -2.388</td> <td>   -1.305</td>\n",
       "</tr>\n",
       "<tr>\n",
       "  <th>Lead Quality_Worst</th>                                   <td>   -3.8543</td> <td>    0.696</td> <td>   -5.542</td> <td> 0.000</td> <td>   -5.218</td> <td>   -2.491</td>\n",
       "</tr>\n",
       "<tr>\n",
       "  <th>Last Notable Activity_Modified</th>                       <td>   -1.8516</td> <td>    0.103</td> <td>  -17.947</td> <td> 0.000</td> <td>   -2.054</td> <td>   -1.649</td>\n",
       "</tr>\n",
       "<tr>\n",
       "  <th>Last Notable Activity_Olark Chat Conversation</th>        <td>   -1.9912</td> <td>    0.352</td> <td>   -5.654</td> <td> 0.000</td> <td>   -2.681</td> <td>   -1.301</td>\n",
       "</tr>\n",
       "</table>"
      ],
      "text/plain": [
       "<class 'statsmodels.iolib.summary.Summary'>\n",
       "\"\"\"\n",
       "                 Generalized Linear Model Regression Results                  \n",
       "==============================================================================\n",
       "Dep. Variable:                      y   No. Observations:                 7392\n",
       "Model:                            GLM   Df Residuals:                     7371\n",
       "Model Family:                Binomial   Df Model:                           20\n",
       "Link Function:                  logit   Scale:                          1.0000\n",
       "Method:                          IRLS   Log-Likelihood:                -1695.1\n",
       "Date:                Sun, 16 Feb 2025   Deviance:                       3390.2\n",
       "Time:                        17:05:35   Pearson chi2:                 1.89e+04\n",
       "No. Iterations:                    20                                         \n",
       "Covariance Type:            nonrobust                                         \n",
       "========================================================================================================================\n",
       "                                                           coef    std err          z      P>|z|      [0.025      0.975]\n",
       "------------------------------------------------------------------------------------------------------------------------\n",
       "const                                                   -6.1991      0.453    -13.696      0.000      -7.086      -5.312\n",
       "Total Time Spent on Website                              4.3934      0.205     21.456      0.000       3.992       4.795\n",
       "Page Views Per Visit                                    -4.2462      1.286     -3.302      0.001      -6.767      -1.726\n",
       "Asymmetrique Activity Score                              6.0167      0.529     11.383      0.000       4.981       7.053\n",
       "Lead Origin_Lead Add Form                                2.3040      0.270      8.548      0.000       1.776       2.832\n",
       "Lead Source_Welingak Website                             2.4872      0.782      3.179      0.001       0.954       4.021\n",
       "Last Activity_SMS Sent                                   2.1836      0.100     21.843      0.000       1.988       2.379\n",
       "What is your current occupation_Working Professional     2.4456      0.247      9.900      0.000       1.961       2.930\n",
       "Tags_Busy                                                2.6330      0.329      7.993      0.000       1.987       3.279\n",
       "Tags_Closed by Horizzon                                  9.8378      1.068      9.210      0.000       7.744      11.931\n",
       "Tags_Lateral student                                    24.7218   1.52e+04      0.002      0.999   -2.97e+04    2.98e+04\n",
       "Tags_Lost to EINS                                        9.6643      0.669     14.437      0.000       8.352      10.976\n",
       "Tags_Ringing                                            -1.0420      0.324     -3.217      0.001      -1.677      -0.407\n",
       "Tags_Will revert after reading the email                 4.1322      0.256     16.140      0.000       3.630       4.634\n",
       "Tags_in touch with EINS                                  3.6435      1.032      3.531      0.000       1.621       5.666\n",
       "Tags_switched off                                       -1.2061      0.582     -2.072      0.038      -2.347      -0.065\n",
       "Lead Quality_Might be                                   -3.4235      0.204    -16.755      0.000      -3.824      -3.023\n",
       "Lead Quality_Not Sure                                   -1.8466      0.276     -6.683      0.000      -2.388      -1.305\n",
       "Lead Quality_Worst                                      -3.8543      0.696     -5.542      0.000      -5.218      -2.491\n",
       "Last Notable Activity_Modified                          -1.8516      0.103    -17.947      0.000      -2.054      -1.649\n",
       "Last Notable Activity_Olark Chat Conversation           -1.9912      0.352     -5.654      0.000      -2.681      -1.301\n",
       "========================================================================================================================\n",
       "\"\"\""
      ]
     },
     "execution_count": 69,
     "metadata": {},
     "output_type": "execute_result"
    }
   ],
   "source": [
    "model2 = sm.GLM(np.array(Y_train), X_train_sm, family=sm.families.Binomial())\n",
    "result2 = model2.fit()\n",
    "result2.summary()"
   ]
  },
  {
   "cell_type": "code",
   "execution_count": 70,
   "id": "1f640630",
   "metadata": {},
   "outputs": [
    {
     "data": {
      "text/html": [
       "<div>\n",
       "<style scoped>\n",
       "    .dataframe tbody tr th:only-of-type {\n",
       "        vertical-align: middle;\n",
       "    }\n",
       "\n",
       "    .dataframe tbody tr th {\n",
       "        vertical-align: top;\n",
       "    }\n",
       "\n",
       "    .dataframe thead th {\n",
       "        text-align: right;\n",
       "    }\n",
       "</style>\n",
       "<table border=\"1\" class=\"dataframe\">\n",
       "  <thead>\n",
       "    <tr style=\"text-align: right;\">\n",
       "      <th></th>\n",
       "      <th>Feature</th>\n",
       "      <th>VIF</th>\n",
       "    </tr>\n",
       "  </thead>\n",
       "  <tbody>\n",
       "    <tr>\n",
       "      <th>0</th>\n",
       "      <td>const</td>\n",
       "      <td>71.593875</td>\n",
       "    </tr>\n",
       "    <tr>\n",
       "      <th>1</th>\n",
       "      <td>Total Time Spent on Website</td>\n",
       "      <td>1.235849</td>\n",
       "    </tr>\n",
       "    <tr>\n",
       "      <th>2</th>\n",
       "      <td>Page Views Per Visit</td>\n",
       "      <td>1.216842</td>\n",
       "    </tr>\n",
       "    <tr>\n",
       "      <th>3</th>\n",
       "      <td>Asymmetrique Activity Score</td>\n",
       "      <td>1.081318</td>\n",
       "    </tr>\n",
       "    <tr>\n",
       "      <th>4</th>\n",
       "      <td>Lead Origin_Lead Add Form</td>\n",
       "      <td>1.638542</td>\n",
       "    </tr>\n",
       "    <tr>\n",
       "      <th>5</th>\n",
       "      <td>Lead Source_Welingak Website</td>\n",
       "      <td>1.254974</td>\n",
       "    </tr>\n",
       "    <tr>\n",
       "      <th>6</th>\n",
       "      <td>Last Activity_SMS Sent</td>\n",
       "      <td>1.188234</td>\n",
       "    </tr>\n",
       "    <tr>\n",
       "      <th>7</th>\n",
       "      <td>What is your current occupation_Working Profes...</td>\n",
       "      <td>1.117504</td>\n",
       "    </tr>\n",
       "    <tr>\n",
       "      <th>8</th>\n",
       "      <td>Tags_Busy</td>\n",
       "      <td>1.247659</td>\n",
       "    </tr>\n",
       "    <tr>\n",
       "      <th>9</th>\n",
       "      <td>Tags_Closed by Horizzon</td>\n",
       "      <td>1.616837</td>\n",
       "    </tr>\n",
       "    <tr>\n",
       "      <th>10</th>\n",
       "      <td>Tags_Lateral student</td>\n",
       "      <td>1.006407</td>\n",
       "    </tr>\n",
       "    <tr>\n",
       "      <th>11</th>\n",
       "      <td>Tags_Lost to EINS</td>\n",
       "      <td>1.141106</td>\n",
       "    </tr>\n",
       "    <tr>\n",
       "      <th>12</th>\n",
       "      <td>Tags_Ringing</td>\n",
       "      <td>1.974406</td>\n",
       "    </tr>\n",
       "    <tr>\n",
       "      <th>13</th>\n",
       "      <td>Tags_Will revert after reading the email</td>\n",
       "      <td>2.885190</td>\n",
       "    </tr>\n",
       "    <tr>\n",
       "      <th>14</th>\n",
       "      <td>Tags_in touch with EINS</td>\n",
       "      <td>1.014973</td>\n",
       "    </tr>\n",
       "    <tr>\n",
       "      <th>15</th>\n",
       "      <td>Tags_switched off</td>\n",
       "      <td>1.237115</td>\n",
       "    </tr>\n",
       "    <tr>\n",
       "      <th>16</th>\n",
       "      <td>Lead Quality_Might be</td>\n",
       "      <td>2.462045</td>\n",
       "    </tr>\n",
       "    <tr>\n",
       "      <th>17</th>\n",
       "      <td>Lead Quality_Not Sure</td>\n",
       "      <td>2.422886</td>\n",
       "    </tr>\n",
       "    <tr>\n",
       "      <th>18</th>\n",
       "      <td>Lead Quality_Worst</td>\n",
       "      <td>1.984842</td>\n",
       "    </tr>\n",
       "    <tr>\n",
       "      <th>19</th>\n",
       "      <td>Last Notable Activity_Modified</td>\n",
       "      <td>1.174577</td>\n",
       "    </tr>\n",
       "    <tr>\n",
       "      <th>20</th>\n",
       "      <td>Last Notable Activity_Olark Chat Conversation</td>\n",
       "      <td>1.053980</td>\n",
       "    </tr>\n",
       "  </tbody>\n",
       "</table>\n",
       "</div>"
      ],
      "text/plain": [
       "                                              Feature        VIF\n",
       "0                                               const  71.593875\n",
       "1                         Total Time Spent on Website   1.235849\n",
       "2                                Page Views Per Visit   1.216842\n",
       "3                         Asymmetrique Activity Score   1.081318\n",
       "4                           Lead Origin_Lead Add Form   1.638542\n",
       "5                        Lead Source_Welingak Website   1.254974\n",
       "6                              Last Activity_SMS Sent   1.188234\n",
       "7   What is your current occupation_Working Profes...   1.117504\n",
       "8                                           Tags_Busy   1.247659\n",
       "9                             Tags_Closed by Horizzon   1.616837\n",
       "10                               Tags_Lateral student   1.006407\n",
       "11                                  Tags_Lost to EINS   1.141106\n",
       "12                                       Tags_Ringing   1.974406\n",
       "13           Tags_Will revert after reading the email   2.885190\n",
       "14                            Tags_in touch with EINS   1.014973\n",
       "15                                  Tags_switched off   1.237115\n",
       "16                              Lead Quality_Might be   2.462045\n",
       "17                              Lead Quality_Not Sure   2.422886\n",
       "18                                 Lead Quality_Worst   1.984842\n",
       "19                     Last Notable Activity_Modified   1.174577\n",
       "20      Last Notable Activity_Olark Chat Conversation   1.053980"
      ]
     },
     "execution_count": 70,
     "metadata": {},
     "output_type": "execute_result"
    }
   ],
   "source": [
    "from statsmodels.stats.outliers_influence import variance_inflation_factor\n",
    "\n",
    "vif_data = pd.DataFrame()\n",
    "vif_data[\"Feature\"] = X_train_sm.columns\n",
    "\n",
    "vif_data[\"VIF\"] = [variance_inflation_factor(X_train_sm.values, i)\n",
    "                  for i in range(len(X_train_sm.columns))]\n",
    "\n",
    "vif_data"
   ]
  },
  {
   "cell_type": "code",
   "execution_count": 71,
   "id": "54f16650",
   "metadata": {},
   "outputs": [
    {
     "data": {
      "text/html": [
       "<div>\n",
       "<style scoped>\n",
       "    .dataframe tbody tr th:only-of-type {\n",
       "        vertical-align: middle;\n",
       "    }\n",
       "\n",
       "    .dataframe tbody tr th {\n",
       "        vertical-align: top;\n",
       "    }\n",
       "\n",
       "    .dataframe thead th {\n",
       "        text-align: right;\n",
       "    }\n",
       "</style>\n",
       "<table border=\"1\" class=\"dataframe\">\n",
       "  <thead>\n",
       "    <tr style=\"text-align: right;\">\n",
       "      <th></th>\n",
       "      <th>predictions</th>\n",
       "    </tr>\n",
       "  </thead>\n",
       "  <tbody>\n",
       "    <tr>\n",
       "      <th>0</th>\n",
       "      <td>0.865213</td>\n",
       "    </tr>\n",
       "    <tr>\n",
       "      <th>1</th>\n",
       "      <td>0.998883</td>\n",
       "    </tr>\n",
       "    <tr>\n",
       "      <th>2</th>\n",
       "      <td>0.832854</td>\n",
       "    </tr>\n",
       "    <tr>\n",
       "      <th>3</th>\n",
       "      <td>0.011802</td>\n",
       "    </tr>\n",
       "    <tr>\n",
       "      <th>4</th>\n",
       "      <td>0.983141</td>\n",
       "    </tr>\n",
       "    <tr>\n",
       "      <th>...</th>\n",
       "      <td>...</td>\n",
       "    </tr>\n",
       "    <tr>\n",
       "      <th>1843</th>\n",
       "      <td>0.233704</td>\n",
       "    </tr>\n",
       "    <tr>\n",
       "      <th>1844</th>\n",
       "      <td>0.054151</td>\n",
       "    </tr>\n",
       "    <tr>\n",
       "      <th>1845</th>\n",
       "      <td>0.301474</td>\n",
       "    </tr>\n",
       "    <tr>\n",
       "      <th>1846</th>\n",
       "      <td>0.000443</td>\n",
       "    </tr>\n",
       "    <tr>\n",
       "      <th>1847</th>\n",
       "      <td>0.001073</td>\n",
       "    </tr>\n",
       "  </tbody>\n",
       "</table>\n",
       "<p>1848 rows × 1 columns</p>\n",
       "</div>"
      ],
      "text/plain": [
       "      predictions\n",
       "0        0.865213\n",
       "1        0.998883\n",
       "2        0.832854\n",
       "3        0.011802\n",
       "4        0.983141\n",
       "...           ...\n",
       "1843     0.233704\n",
       "1844     0.054151\n",
       "1845     0.301474\n",
       "1846     0.000443\n",
       "1847     0.001073\n",
       "\n",
       "[1848 rows x 1 columns]"
      ]
     },
     "execution_count": 71,
     "metadata": {},
     "output_type": "execute_result"
    }
   ],
   "source": [
    "output = pd.DataFrame()\n",
    "output[\"predictions\"] = result2.predict(X_test_sm)\n",
    "output"
   ]
  },
  {
   "cell_type": "code",
   "execution_count": 72,
   "id": "b49e677f",
   "metadata": {},
   "outputs": [
    {
     "data": {
      "text/html": [
       "<div>\n",
       "<style scoped>\n",
       "    .dataframe tbody tr th:only-of-type {\n",
       "        vertical-align: middle;\n",
       "    }\n",
       "\n",
       "    .dataframe tbody tr th {\n",
       "        vertical-align: top;\n",
       "    }\n",
       "\n",
       "    .dataframe thead th {\n",
       "        text-align: right;\n",
       "    }\n",
       "</style>\n",
       "<table border=\"1\" class=\"dataframe\">\n",
       "  <thead>\n",
       "    <tr style=\"text-align: right;\">\n",
       "      <th></th>\n",
       "      <th>predictions</th>\n",
       "      <th>Lead_Score</th>\n",
       "    </tr>\n",
       "  </thead>\n",
       "  <tbody>\n",
       "    <tr>\n",
       "      <th>605</th>\n",
       "      <td>0.999999</td>\n",
       "      <td>99.999913</td>\n",
       "    </tr>\n",
       "    <tr>\n",
       "      <th>546</th>\n",
       "      <td>0.999999</td>\n",
       "      <td>99.999859</td>\n",
       "    </tr>\n",
       "    <tr>\n",
       "      <th>915</th>\n",
       "      <td>0.999998</td>\n",
       "      <td>99.999803</td>\n",
       "    </tr>\n",
       "    <tr>\n",
       "      <th>1091</th>\n",
       "      <td>0.999998</td>\n",
       "      <td>99.999787</td>\n",
       "    </tr>\n",
       "    <tr>\n",
       "      <th>1770</th>\n",
       "      <td>0.999997</td>\n",
       "      <td>99.999709</td>\n",
       "    </tr>\n",
       "    <tr>\n",
       "      <th>...</th>\n",
       "      <td>...</td>\n",
       "      <td>...</td>\n",
       "    </tr>\n",
       "    <tr>\n",
       "      <th>1839</th>\n",
       "      <td>0.000060</td>\n",
       "      <td>0.006025</td>\n",
       "    </tr>\n",
       "    <tr>\n",
       "      <th>1067</th>\n",
       "      <td>0.000057</td>\n",
       "      <td>0.005729</td>\n",
       "    </tr>\n",
       "    <tr>\n",
       "      <th>104</th>\n",
       "      <td>0.000046</td>\n",
       "      <td>0.004578</td>\n",
       "    </tr>\n",
       "    <tr>\n",
       "      <th>89</th>\n",
       "      <td>0.000030</td>\n",
       "      <td>0.003004</td>\n",
       "    </tr>\n",
       "    <tr>\n",
       "      <th>1073</th>\n",
       "      <td>0.000027</td>\n",
       "      <td>0.002691</td>\n",
       "    </tr>\n",
       "  </tbody>\n",
       "</table>\n",
       "<p>1848 rows × 2 columns</p>\n",
       "</div>"
      ],
      "text/plain": [
       "      predictions  Lead_Score\n",
       "605      0.999999   99.999913\n",
       "546      0.999999   99.999859\n",
       "915      0.999998   99.999803\n",
       "1091     0.999998   99.999787\n",
       "1770     0.999997   99.999709\n",
       "...           ...         ...\n",
       "1839     0.000060    0.006025\n",
       "1067     0.000057    0.005729\n",
       "104      0.000046    0.004578\n",
       "89       0.000030    0.003004\n",
       "1073     0.000027    0.002691\n",
       "\n",
       "[1848 rows x 2 columns]"
      ]
     },
     "execution_count": 72,
     "metadata": {},
     "output_type": "execute_result"
    }
   ],
   "source": [
    "output[\"Lead_Score\"] = output[\"predictions\"] * 100\n",
    "output.sort_values(by = 'Lead_Score', ascending=False)"
   ]
  },
  {
   "cell_type": "markdown",
   "id": "74f5ac54",
   "metadata": {},
   "source": [
    "#### Build and train the logistic regression model"
   ]
  },
  {
   "cell_type": "markdown",
   "id": "b9ee229a",
   "metadata": {},
   "source": [
    "#### Evaluate the model using various metrics"
   ]
  },
  {
   "cell_type": "code",
   "execution_count": 73,
   "id": "ddfff011",
   "metadata": {},
   "outputs": [],
   "source": [
    "y_pred = selector.predict(X_test_Scaled)"
   ]
  },
  {
   "cell_type": "code",
   "execution_count": 74,
   "id": "7dfd7e60",
   "metadata": {},
   "outputs": [
    {
     "name": "stdout",
     "output_type": "stream",
     "text": [
      "Accuracy: 0.9074675324675324\n",
      "Confusion Matrix:\n",
      " [[1040   76]\n",
      " [  95  637]]\n",
      "Classification Report:\n",
      "               precision    recall  f1-score   support\n",
      "\n",
      "           0       0.92      0.93      0.92      1116\n",
      "           1       0.89      0.87      0.88       732\n",
      "\n",
      "    accuracy                           0.91      1848\n",
      "   macro avg       0.90      0.90      0.90      1848\n",
      "weighted avg       0.91      0.91      0.91      1848\n",
      "\n"
     ]
    }
   ],
   "source": [
    "print('Accuracy:', accuracy_score(Y_test, y_pred))\n",
    "print('Confusion Matrix:\\n', confusion_matrix(Y_test, y_pred))\n",
    "print('Classification Report:\\n', classification_report(Y_test, y_pred))"
   ]
  },
  {
   "cell_type": "markdown",
   "id": "def7f5dc",
   "metadata": {},
   "source": [
    "#### Optimize the model"
   ]
  },
  {
   "cell_type": "code",
   "execution_count": 75,
   "id": "a5ec7410",
   "metadata": {},
   "outputs": [
    {
     "name": "stdout",
     "output_type": "stream",
     "text": [
      "Best Parameters: {'C': 1}\n",
      "Best Score: 0.9115252689662492\n"
     ]
    }
   ],
   "source": [
    "# Define the hyperparameters and grid search\n",
    "param_grid = {'C': [0.1, 1, 10, 100]}\n",
    "grid = GridSearchCV(LogisticRegression(), param_grid, cv=5)\n",
    "grid.fit(X_train, Y_train)\n",
    "\n",
    "# Display the best parameters and score\n",
    "print('Best Parameters:', grid.best_params_)\n",
    "print('Best Score:', grid.best_score_)\n"
   ]
  }
 ],
 "metadata": {
  "kernelspec": {
   "display_name": "Python 3 (ipykernel)",
   "language": "python",
   "name": "python3"
  },
  "language_info": {
   "codemirror_mode": {
    "name": "ipython",
    "version": 3
   },
   "file_extension": ".py",
   "mimetype": "text/x-python",
   "name": "python",
   "nbconvert_exporter": "python",
   "pygments_lexer": "ipython3",
   "version": "3.9.7"
  }
 },
 "nbformat": 4,
 "nbformat_minor": 5
}
